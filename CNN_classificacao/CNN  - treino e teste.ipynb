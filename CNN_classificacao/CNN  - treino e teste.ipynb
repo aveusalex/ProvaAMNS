{
 "cells": [
  {
   "cell_type": "code",
   "execution_count": 1,
   "id": "4f4ce7c0",
   "metadata": {},
   "outputs": [],
   "source": [
    "#Fazendo as importações necessárias\n",
    "import torch\n",
    "from torchsummary import summary \n",
    "from torch import nn\n",
    "from torch.utils.data import DataLoader\n",
    "from torchvision import datasets\n",
    "from torchvision.transforms import ToTensor\n",
    "from torch.cuda import device\n",
    "import pandas as pd\n",
    "import torchaudio\n",
    "import os\n",
    "import re\n",
    "import numpy as np\n",
    "import librosa.display\n",
    "%matplotlib inline\n",
    "import numpy, scipy, matplotlib.pyplot as plt, IPython.display as ipd\n",
    "import librosa"
   ]
  },
  {
   "cell_type": "code",
   "execution_count": 2,
   "id": "b9e02946",
   "metadata": {},
   "outputs": [
    {
     "name": "stdout",
     "output_type": "stream",
     "text": [
      "using cuda\n"
     ]
    }
   ],
   "source": [
    "#Acessando a gpu\n",
    "if torch.cuda.is_available():\n",
    "  device = \"cuda\"\n",
    "else:\n",
    "  device = \"cpu\"\n",
    "print(f\"using {device}\")"
   ]
  },
  {
   "cell_type": "code",
   "execution_count": 4,
   "id": "d6dadd5b",
   "metadata": {},
   "outputs": [],
   "source": [
    "#Classe para criação do dataloader, com ela conseguimos abrir os arquivos de áudio a serem utilizados\n",
    "from torch.utils.data import Dataset\n",
    "class SerDataset (Dataset):\n",
    "\n",
    "    def __init__(self,\n",
    "                 annotations_file,\n",
    "                 transformation,\n",
    "                 target_sample_rate,\n",
    "                 num_samples,device):\n",
    "        self.annotations = pd.read_csv(annotations_file)\n",
    "        self.device = device\n",
    "        self.transformation = transformation.to(self.device)\n",
    "        self.target_sample_rate = target_sample_rate\n",
    "        self.num_samples = num_samples\n",
    "        self.cache = dict()\n",
    "        \n",
    "\n",
    "    def __len__(self):\n",
    "        return len(self.annotations)\n",
    "\n",
    "    def __getitem__(self,index):\n",
    "        if index in self.cache:\n",
    "          return self.cache[index]\n",
    "        audio_sample_path = self._get_audio_sample_path(index)\n",
    "        label = self._get_audio_sample_label(index)\n",
    "        signal, sr = torchaudio.load(audio_sample_path)\n",
    "        signal = signal.to(self.device)\n",
    "        signal = self._resample_if_necessary(signal, sr)\n",
    "        signal = self._mix_down_if_necessary(signal)\n",
    "        signal = self._cut_if_necessary(signal)\n",
    "        signal = self._right_pad_if_necessary(signal)\n",
    "        signal = self.transformation(signal)\n",
    "        label_dict = {\"fear\":0, \"disgust\":1, \"happy\":2, \"sad\":3, \"neutral\":4, \"angry\":5, \"surprise\":6}\n",
    "        label2 = label_dict[label]\n",
    "        self.cache[index] = signal, label2\n",
    "        return signal, label2\n",
    "\n",
    "    def _cut_if_necessary(self, signal):\n",
    "        if signal.shape[1] > self.num_samples:\n",
    "            signal = signal[:, :self.num_samples]\n",
    "        return signal\n",
    "\n",
    "    def _right_pad_if_necessary(self, signal):\n",
    "        length_signal = signal.shape[1]\n",
    "        if length_signal < self.num_samples:\n",
    "            num_missing_samples = self.num_samples - length_signal\n",
    "            last_dim_padding = (0, num_missing_samples)\n",
    "            signal = torch.nn.functional.pad(signal, last_dim_padding)\n",
    "        return signal\n",
    "\n",
    "    def _resample_if_necessary(self, signal, sr):\n",
    "        if sr != self.target_sample_rate:\n",
    "            resampler = torchaudio.transforms.Resample(sr, self.target_sample_rate)\n",
    "            resampler.to(self.device)\n",
    "            signal = resampler(signal)\n",
    "        return signal\n",
    "\n",
    "    def _mix_down_if_necessary(self, signal):\n",
    "        if signal.shape[0] > 1:\n",
    "            signal = torch.mean(signal, dim=0, keepdim=True)\n",
    "        return signal\n",
    "\n",
    "    def _get_audio_sample_path(self,index):\n",
    "        return self.annotations.iloc[index,0]\n",
    "    def _get_audio_sample_label(self,index):\n",
    "        return self.annotations.iloc[index,1]\n"
   ]
  },
  {
   "cell_type": "code",
   "execution_count": 106,
   "id": "94e99410",
   "metadata": {},
   "outputs": [
    {
     "name": "stdout",
     "output_type": "stream",
     "text": [
      "There are 17294 samples in the dataset.\n"
     ]
    }
   ],
   "source": [
    "#Captando os dados de treino\n",
    "ANNOTATIONS_FILE = \"metadata/treino.csv\"\n",
    "SAMPLE_RATE = 16000\n",
    "NUM_SAMPLES = 4*16000\n",
    "\n",
    "mel_spectrogram = torchaudio.transforms.MelSpectrogram(\n",
    "    sample_rate=SAMPLE_RATE,\n",
    "    n_fft=1024,\n",
    "    hop_length=512,\n",
    "    n_mels=64\n",
    ")\n",
    "train_data = SerDataset(ANNOTATIONS_FILE,mel_spectrogram,SAMPLE_RATE,NUM_SAMPLES,device)\n",
    "\n",
    "print(f\"There are {len(train_data)} samples in the dataset.\")"
   ]
  },
  {
   "cell_type": "code",
   "execution_count": 107,
   "id": "a15b3966",
   "metadata": {},
   "outputs": [],
   "source": [
    "#Fazendo a partição dos dados em treino e validação\n",
    "aux_size = len(train_data)\n",
    "train_data, valid_data =  torch.utils.data.random_split(train_data, [int(np.ceil(aux_size*0.80)), int(np.floor(aux_size*0.20))])\n"
   ]
  },
  {
   "cell_type": "code",
   "execution_count": 108,
   "id": "a14e9cc0",
   "metadata": {},
   "outputs": [
    {
     "data": {
      "text/plain": [
       "3458"
      ]
     },
     "execution_count": 108,
     "metadata": {},
     "output_type": "execute_result"
    }
   ],
   "source": [
    "len(valid_data)"
   ]
  },
  {
   "cell_type": "code",
   "execution_count": 109,
   "id": "af231e3a",
   "metadata": {},
   "outputs": [],
   "source": [
    "#Criando os dataloaders\n",
    "batch_size= 16\n",
    "train_loader = DataLoader(dataset = train_data, batch_size = batch_size, shuffle=True)\n",
    "valid_loader = DataLoader(dataset = valid_data, batch_size = batch_size, shuffle=True)"
   ]
  },
  {
   "cell_type": "code",
   "execution_count": 110,
   "id": "fb044bc6",
   "metadata": {},
   "outputs": [],
   "source": [
    "#Montando a rede neural \n",
    "class CNNNetwork(nn.Module):\n",
    "\n",
    "    def __init__(self):\n",
    "        super().__init__()\n",
    "        # 4 conv blocks / flatten / linear / softmax\n",
    "        self.conv1 = nn.Sequential(\n",
    "            nn.Conv2d(\n",
    "                in_channels=1,\n",
    "                out_channels=32,\n",
    "                kernel_size=3,\n",
    "                stride=1,\n",
    "                padding=2\n",
    "            ),\n",
    "            nn.ReLU(),\n",
    "            nn.MaxPool2d(kernel_size=2),\n",
    "            nn.Dropout(0.3)\n",
    "        )\n",
    "        self.conv2 = nn.Sequential(\n",
    "            nn.Conv2d(\n",
    "                in_channels=32,\n",
    "                out_channels=64,\n",
    "                kernel_size=5,\n",
    "                stride=1,\n",
    "                padding=2\n",
    "            ),\n",
    "            nn.ReLU(),\n",
    "            nn.MaxPool2d(kernel_size=2),\n",
    "            nn.Dropout(0.3)\n",
    "        )\n",
    "        self.conv3 = nn.Sequential(\n",
    "            nn.Conv2d(\n",
    "                in_channels=64,\n",
    "                out_channels=128,\n",
    "                kernel_size=3,\n",
    "                stride=1,\n",
    "                padding=2\n",
    "            ),\n",
    "            nn.ReLU(),\n",
    "            nn.MaxPool2d(kernel_size=2),\n",
    "            nn.Dropout(0.3)\n",
    "        )\n",
    "        self.conv4 = nn.Sequential(\n",
    "            nn.Conv2d(\n",
    "                in_channels=128,\n",
    "               out_channels=256,\n",
    "                kernel_size=5,\n",
    "                stride=1,\n",
    "                padding=2\n",
    "            ),\n",
    "            nn.BatchNorm2d(256),\n",
    "            nn.ReLU(),\n",
    "            nn.MaxPool2d(kernel_size=2),\n",
    "            nn.Dropout(0.3)\n",
    "        )\n",
    "    \n",
    "        self.dropout = nn.Dropout()\n",
    "        self.flatten = nn.Flatten()\n",
    "        self.linear = nn.Linear(8192, 7)\n",
    "\n",
    "    def forward(self, input_data):\n",
    "        x = self.conv1(input_data)\n",
    "        x = self.conv2(x)\n",
    "        x = self.conv3(x)\n",
    "        x = self.conv4(x)\n",
    "        x = self.dropout(x)\n",
    "        x = self.flatten(x)\n",
    "        logits = self.linear(x)\n",
    "        return logits"
   ]
  },
  {
   "cell_type": "code",
   "execution_count": 111,
   "id": "da81551a",
   "metadata": {},
   "outputs": [],
   "source": [
    "cnn = CNNNetwork().to(device)"
   ]
  },
  {
   "cell_type": "code",
   "execution_count": 112,
   "id": "745bfd67",
   "metadata": {},
   "outputs": [
    {
     "name": "stdout",
     "output_type": "stream",
     "text": [
      "----------------------------------------------------------------\n",
      "        Layer (type)               Output Shape         Param #\n",
      "================================================================\n",
      "            Conv2d-1          [-1, 32, 66, 128]             320\n",
      "              ReLU-2          [-1, 32, 66, 128]               0\n",
      "         MaxPool2d-3           [-1, 32, 33, 64]               0\n",
      "           Dropout-4           [-1, 32, 33, 64]               0\n",
      "            Conv2d-5           [-1, 64, 33, 64]          51,264\n",
      "              ReLU-6           [-1, 64, 33, 64]               0\n",
      "         MaxPool2d-7           [-1, 64, 16, 32]               0\n",
      "           Dropout-8           [-1, 64, 16, 32]               0\n",
      "            Conv2d-9          [-1, 128, 18, 34]          73,856\n",
      "             ReLU-10          [-1, 128, 18, 34]               0\n",
      "        MaxPool2d-11           [-1, 128, 9, 17]               0\n",
      "          Dropout-12           [-1, 128, 9, 17]               0\n",
      "           Conv2d-13           [-1, 256, 9, 17]         819,456\n",
      "      BatchNorm2d-14           [-1, 256, 9, 17]             512\n",
      "             ReLU-15           [-1, 256, 9, 17]               0\n",
      "        MaxPool2d-16            [-1, 256, 4, 8]               0\n",
      "          Dropout-17            [-1, 256, 4, 8]               0\n",
      "          Dropout-18            [-1, 256, 4, 8]               0\n",
      "          Flatten-19                 [-1, 8192]               0\n",
      "           Linear-20                    [-1, 7]          57,351\n",
      "================================================================\n",
      "Total params: 1,002,759\n",
      "Trainable params: 1,002,759\n",
      "Non-trainable params: 0\n",
      "----------------------------------------------------------------\n",
      "Input size (MB): 0.03\n",
      "Forward/backward pass size (MB): 10.36\n",
      "Params size (MB): 3.83\n",
      "Estimated Total Size (MB): 14.22\n",
      "----------------------------------------------------------------\n"
     ]
    }
   ],
   "source": [
    "summary(cnn.cuda(),(1,64,126))"
   ]
  },
  {
   "cell_type": "code",
   "execution_count": 115,
   "id": "03525c67",
   "metadata": {},
   "outputs": [],
   "source": [
    "from tqdm import tqdm\n",
    "#função que irá realizar o treino e a validação\n",
    "def train(loss_func, opt, epochs, model, train_loader, valid_loader):\n",
    "\n",
    "  #lista que irá armazenar a loss de treino de cada época\n",
    "  losses_train = []\n",
    "\n",
    "  #lista que irá armazenar a loss de validação de cada época\n",
    "  losses_val = []\n",
    "\n",
    "  #lista que irá armazenar a acurácia de treino de cada época\n",
    "  acc_train = []\n",
    "\n",
    "  #lista que irá armazenar a acurácia de validação de cada época\n",
    "  acc_valid = []\n",
    "\n",
    "  #treino\n",
    "  for epoch in range(1,epochs+1):\n",
    "\n",
    "      #lista que irá armazenar a loss de treino de cada batch\n",
    "      loss_train = []\n",
    "\n",
    "      #lista que irá armazenar a loss de validação de cada batch\n",
    "      loss_val = []\n",
    "\n",
    "      #variável que armazenar a quantidade de acertos no treino\n",
    "      corretos_train = 0\n",
    "\n",
    "      model.train()\n",
    "\n",
    "      for batch_index, (inp_train, label_train) in enumerate(tqdm(train_loader)):\n",
    "          \n",
    "          #alocando o input e a label na GPU\n",
    "          inp_train, label_train = inp_train.to(device),label_train.to(device)\n",
    "           \n",
    "\n",
    "          #predição do modelo em cima do input\n",
    "          preds = model(inp_train)\n",
    "\n",
    "          #cálculo da loss de treino\n",
    "          loss_calc = loss_func(preds, label_train)\n",
    "\n",
    "          #armazenando a loss na lista de loss de treino dos batches\n",
    "          loss_train.append(loss_calc.item())\n",
    "\n",
    "          #incrementando a quantidade de acertos no treino\n",
    "          corretos_train += (preds.argmax(1) == label_train).type(torch.float).sum().item()\n",
    "\n",
    "          #zerando o gradiente para realizar o backpropagation\n",
    "          opt.zero_grad()\n",
    "\n",
    "          #calculando o gradiente\n",
    "          loss_calc.backward()\n",
    "\n",
    "          #atualizando os pesos do modelo\n",
    "          opt.step()\n",
    "    \n",
    "      #adicionando a loss de treino do batch à lista de loss das épocas\n",
    "      losses_train.append(np.mean(loss_train))\n",
    "\n",
    "      #adicionando a acurácia da época à lista de acurácia de treino das épocas\n",
    "      acc_train.append(corretos_train/len(train_loader.dataset))\n",
    "\n",
    "      ''#validação\n",
    "      #variável que armazena o número de acertos na validação\n",
    "      corretos_valid = 0\n",
    "      model.eval()\n",
    "      with torch.no_grad():\n",
    "        for inp_valid, label_valid in valid_loader:\n",
    "            \n",
    "            #alocando o input e a label na GPU\n",
    "            inp_valid,label_valid = inp_valid.to(device),label_valid.to(device)\n",
    "            \n",
    "                \n",
    "            #predição do modelo em cima do input\n",
    "            preds2 = model(inp_valid)\n",
    "    \n",
    "\n",
    "\n",
    "            #cálculo da loss de validação\n",
    "            loss_calc = loss_func(preds2, label_valid)\n",
    "\n",
    "            #armazenando a loss na lista de loss de validação dos batches\n",
    "            loss_val.append(loss_calc.item())\n",
    "            #incrementando a quantidade de acertos na validação\n",
    "            corretos_valid += (preds2.argmax(1) == label_valid).type(torch.float).sum().item()\n",
    "\n",
    "        #adicionando a loss de validação do batch à lista de loss das épocas\n",
    "        losses_val.append(np.mean(loss_val))\n",
    "\n",
    "        #adicionando a acurácia da época à lista de acurácia de validação das épocas\n",
    "        acc_valid.append(corretos_valid/len(valid_loader.dataset))    \n",
    "        \n",
    "      #imprimindo a loss de treino, de validação e acurácia de treino e acurácia de validação de cada época\n",
    "      print(f\"\\nEpoch: {epoch} | \\t Loss(train): {round(sum(loss_train)/len(loss_train),2)} | \\t Loss(validation): {round(sum(loss_val)/len(loss_val),2)} | \\t Accuracy (train): {round(corretos_train/len(train_loader.dataset),3)*100}% | \\t Accuracy (validation): {round(corretos_valid/len(valid_loader.dataset),3)*100}%\")\n",
    "\n",
    "  #criação de gráficos para analisar o comportamento\n",
    "  #da acurácia e da loss ao longo das épocas\n",
    "  print(\"\\n\")\n",
    "  fig, (ax1, ax2) = plt.subplots(1,2, figsize=(16,8))\n",
    "  ax1.set_title(\"Accuracy Analysis\")\n",
    "  ax1.set_xlabel(\"Epochs\")\n",
    "  ax1.set_ylabel(\"Accuracy\")\n",
    "  ax1.plot(range(1,epochs+1),acc_train)\n",
    "  ax1.plot(range(1,epochs+1),acc_valid)\n",
    "  ax1.legend(['Train','Validation'])\n",
    "\n",
    "  ax2.set_title(\"Loss Analysis\")\n",
    "  ax2.set_xlabel(\"Epochs\")\n",
    "  ax2.set_ylabel(\"Loss\")\n",
    "  ax2.plot(range(1,epochs+1),losses_train)\n",
    "  ax2.plot(range(1,epochs+1),losses_val)\n",
    "  ax2.legend(['Train','Validation'])\n",
    "\n",
    "  return acc_train, acc_valid, losses_train, losses_val"
   ]
  },
  {
   "cell_type": "code",
   "execution_count": 116,
   "id": "add6f6a8",
   "metadata": {},
   "outputs": [],
   "source": [
    "cnn = CNNNetwork()\n",
    "cnn.to(device)\n",
    "lrt = 0.001\n",
    "epochs = 120\n",
    "loss_func = nn.CrossEntropyLoss()\n",
    "optm = torch.optim.Adam(cnn.parameters(), lr = lrt)"
   ]
  },
  {
   "cell_type": "code",
   "execution_count": 117,
   "id": "8b9075c4",
   "metadata": {},
   "outputs": [
    {
     "name": "stderr",
     "output_type": "stream",
     "text": [
      "100%|████████████████████████████████████████████████████████████████████████████████| 865/865 [01:27<00:00,  9.89it/s]\n"
     ]
    },
    {
     "name": "stdout",
     "output_type": "stream",
     "text": [
      "\n",
      "Epoch: 1 | \t Loss(train): 2.01 | \t Loss(validation): 1.69 | \t Accuracy (train): 31.4% | \t Accuracy (validation): 39.4%\n"
     ]
    },
    {
     "name": "stderr",
     "output_type": "stream",
     "text": [
      "100%|████████████████████████████████████████████████████████████████████████████████| 865/865 [00:09<00:00, 90.87it/s]\n"
     ]
    },
    {
     "name": "stdout",
     "output_type": "stream",
     "text": [
      "\n",
      "Epoch: 2 | \t Loss(train): 1.76 | \t Loss(validation): 1.66 | \t Accuracy (train): 34.8% | \t Accuracy (validation): 40.300000000000004%\n"
     ]
    },
    {
     "name": "stderr",
     "output_type": "stream",
     "text": [
      "100%|████████████████████████████████████████████████████████████████████████████████| 865/865 [00:08<00:00, 97.44it/s]\n"
     ]
    },
    {
     "name": "stdout",
     "output_type": "stream",
     "text": [
      "\n",
      "Epoch: 3 | \t Loss(train): 1.69 | \t Loss(validation): 1.74 | \t Accuracy (train): 35.6% | \t Accuracy (validation): 37.5%\n"
     ]
    },
    {
     "name": "stderr",
     "output_type": "stream",
     "text": [
      "100%|████████████████████████████████████████████████████████████████████████████████| 865/865 [00:08<00:00, 97.20it/s]\n"
     ]
    },
    {
     "name": "stdout",
     "output_type": "stream",
     "text": [
      "\n",
      "Epoch: 4 | \t Loss(train): 1.65 | \t Loss(validation): 1.66 | \t Accuracy (train): 36.4% | \t Accuracy (validation): 37.1%\n"
     ]
    },
    {
     "name": "stderr",
     "output_type": "stream",
     "text": [
      "100%|████████████████████████████████████████████████████████████████████████████████| 865/865 [00:08<00:00, 96.62it/s]\n"
     ]
    },
    {
     "name": "stdout",
     "output_type": "stream",
     "text": [
      "\n",
      "Epoch: 5 | \t Loss(train): 1.63 | \t Loss(validation): 1.63 | \t Accuracy (train): 36.7% | \t Accuracy (validation): 38.1%\n"
     ]
    },
    {
     "name": "stderr",
     "output_type": "stream",
     "text": [
      "100%|████████████████████████████████████████████████████████████████████████████████| 865/865 [00:08<00:00, 97.36it/s]\n"
     ]
    },
    {
     "name": "stdout",
     "output_type": "stream",
     "text": [
      "\n",
      "Epoch: 6 | \t Loss(train): 1.61 | \t Loss(validation): 1.62 | \t Accuracy (train): 37.1% | \t Accuracy (validation): 39.0%\n"
     ]
    },
    {
     "name": "stderr",
     "output_type": "stream",
     "text": [
      "100%|████████████████████████████████████████████████████████████████████████████████| 865/865 [00:09<00:00, 88.57it/s]\n"
     ]
    },
    {
     "name": "stdout",
     "output_type": "stream",
     "text": [
      "\n",
      "Epoch: 7 | \t Loss(train): 1.6 | \t Loss(validation): 1.6 | \t Accuracy (train): 38.3% | \t Accuracy (validation): 38.1%\n"
     ]
    },
    {
     "name": "stderr",
     "output_type": "stream",
     "text": [
      "100%|████████████████████████████████████████████████████████████████████████████████| 865/865 [00:09<00:00, 93.83it/s]\n"
     ]
    },
    {
     "name": "stdout",
     "output_type": "stream",
     "text": [
      "\n",
      "Epoch: 8 | \t Loss(train): 1.59 | \t Loss(validation): 1.6 | \t Accuracy (train): 38.4% | \t Accuracy (validation): 39.4%\n"
     ]
    },
    {
     "name": "stderr",
     "output_type": "stream",
     "text": [
      "100%|████████████████████████████████████████████████████████████████████████████████| 865/865 [00:09<00:00, 94.22it/s]\n"
     ]
    },
    {
     "name": "stdout",
     "output_type": "stream",
     "text": [
      "\n",
      "Epoch: 9 | \t Loss(train): 1.57 | \t Loss(validation): 1.62 | \t Accuracy (train): 39.1% | \t Accuracy (validation): 40.5%\n"
     ]
    },
    {
     "name": "stderr",
     "output_type": "stream",
     "text": [
      "100%|████████████████████████████████████████████████████████████████████████████████| 865/865 [00:09<00:00, 93.48it/s]\n"
     ]
    },
    {
     "name": "stdout",
     "output_type": "stream",
     "text": [
      "\n",
      "Epoch: 10 | \t Loss(train): 1.55 | \t Loss(validation): 1.54 | \t Accuracy (train): 40.1% | \t Accuracy (validation): 42.699999999999996%\n"
     ]
    },
    {
     "name": "stderr",
     "output_type": "stream",
     "text": [
      "100%|████████████████████████████████████████████████████████████████████████████████| 865/865 [00:09<00:00, 94.19it/s]\n"
     ]
    },
    {
     "name": "stdout",
     "output_type": "stream",
     "text": [
      "\n",
      "Epoch: 11 | \t Loss(train): 1.54 | \t Loss(validation): 1.62 | \t Accuracy (train): 41.0% | \t Accuracy (validation): 40.2%\n"
     ]
    },
    {
     "name": "stderr",
     "output_type": "stream",
     "text": [
      "100%|████████████████████████████████████████████████████████████████████████████████| 865/865 [00:09<00:00, 92.61it/s]\n"
     ]
    },
    {
     "name": "stdout",
     "output_type": "stream",
     "text": [
      "\n",
      "Epoch: 12 | \t Loss(train): 1.52 | \t Loss(validation): 1.6 | \t Accuracy (train): 41.6% | \t Accuracy (validation): 39.4%\n"
     ]
    },
    {
     "name": "stderr",
     "output_type": "stream",
     "text": [
      "100%|████████████████████████████████████████████████████████████████████████████████| 865/865 [00:09<00:00, 91.32it/s]\n"
     ]
    },
    {
     "name": "stdout",
     "output_type": "stream",
     "text": [
      "\n",
      "Epoch: 13 | \t Loss(train): 1.49 | \t Loss(validation): 1.52 | \t Accuracy (train): 43.2% | \t Accuracy (validation): 42.3%\n"
     ]
    },
    {
     "name": "stderr",
     "output_type": "stream",
     "text": [
      "100%|████████████████████████████████████████████████████████████████████████████████| 865/865 [00:09<00:00, 94.28it/s]\n"
     ]
    },
    {
     "name": "stdout",
     "output_type": "stream",
     "text": [
      "\n",
      "Epoch: 14 | \t Loss(train): 1.49 | \t Loss(validation): 1.48 | \t Accuracy (train): 44.0% | \t Accuracy (validation): 45.1%\n"
     ]
    },
    {
     "name": "stderr",
     "output_type": "stream",
     "text": [
      "100%|████████████████████████████████████████████████████████████████████████████████| 865/865 [00:09<00:00, 93.55it/s]\n"
     ]
    },
    {
     "name": "stdout",
     "output_type": "stream",
     "text": [
      "\n",
      "Epoch: 15 | \t Loss(train): 1.46 | \t Loss(validation): 1.49 | \t Accuracy (train): 44.800000000000004% | \t Accuracy (validation): 45.1%\n"
     ]
    },
    {
     "name": "stderr",
     "output_type": "stream",
     "text": [
      "100%|████████████████████████████████████████████████████████████████████████████████| 865/865 [00:09<00:00, 90.42it/s]\n"
     ]
    },
    {
     "name": "stdout",
     "output_type": "stream",
     "text": [
      "\n",
      "Epoch: 16 | \t Loss(train): 1.46 | \t Loss(validation): 1.51 | \t Accuracy (train): 44.800000000000004% | \t Accuracy (validation): 46.400000000000006%\n"
     ]
    },
    {
     "name": "stderr",
     "output_type": "stream",
     "text": [
      "100%|████████████████████████████████████████████████████████████████████████████████| 865/865 [00:09<00:00, 92.55it/s]\n"
     ]
    },
    {
     "name": "stdout",
     "output_type": "stream",
     "text": [
      "\n",
      "Epoch: 17 | \t Loss(train): 1.46 | \t Loss(validation): 1.47 | \t Accuracy (train): 44.7% | \t Accuracy (validation): 46.0%\n"
     ]
    },
    {
     "name": "stderr",
     "output_type": "stream",
     "text": [
      "100%|████████████████████████████████████████████████████████████████████████████████| 865/865 [00:09<00:00, 92.63it/s]\n"
     ]
    },
    {
     "name": "stdout",
     "output_type": "stream",
     "text": [
      "\n",
      "Epoch: 18 | \t Loss(train): 1.44 | \t Loss(validation): 1.47 | \t Accuracy (train): 45.2% | \t Accuracy (validation): 44.2%\n"
     ]
    },
    {
     "name": "stderr",
     "output_type": "stream",
     "text": [
      "100%|████████████████████████████████████████████████████████████████████████████████| 865/865 [00:09<00:00, 93.00it/s]\n"
     ]
    },
    {
     "name": "stdout",
     "output_type": "stream",
     "text": [
      "\n",
      "Epoch: 19 | \t Loss(train): 1.42 | \t Loss(validation): 1.38 | \t Accuracy (train): 45.7% | \t Accuracy (validation): 48.5%\n"
     ]
    },
    {
     "name": "stderr",
     "output_type": "stream",
     "text": [
      "100%|████████████████████████████████████████████████████████████████████████████████| 865/865 [00:09<00:00, 92.02it/s]\n"
     ]
    },
    {
     "name": "stdout",
     "output_type": "stream",
     "text": [
      "\n",
      "Epoch: 20 | \t Loss(train): 1.42 | \t Loss(validation): 1.43 | \t Accuracy (train): 46.0% | \t Accuracy (validation): 46.6%\n"
     ]
    },
    {
     "name": "stderr",
     "output_type": "stream",
     "text": [
      "100%|████████████████████████████████████████████████████████████████████████████████| 865/865 [00:09<00:00, 92.91it/s]\n"
     ]
    },
    {
     "name": "stdout",
     "output_type": "stream",
     "text": [
      "\n",
      "Epoch: 21 | \t Loss(train): 1.41 | \t Loss(validation): 1.42 | \t Accuracy (train): 46.6% | \t Accuracy (validation): 47.4%\n"
     ]
    },
    {
     "name": "stderr",
     "output_type": "stream",
     "text": [
      "100%|████████████████████████████████████████████████████████████████████████████████| 865/865 [00:09<00:00, 92.33it/s]\n"
     ]
    },
    {
     "name": "stdout",
     "output_type": "stream",
     "text": [
      "\n",
      "Epoch: 22 | \t Loss(train): 1.41 | \t Loss(validation): 1.44 | \t Accuracy (train): 46.800000000000004% | \t Accuracy (validation): 45.6%\n"
     ]
    },
    {
     "name": "stderr",
     "output_type": "stream",
     "text": [
      "100%|████████████████████████████████████████████████████████████████████████████████| 865/865 [00:09<00:00, 92.76it/s]\n"
     ]
    },
    {
     "name": "stdout",
     "output_type": "stream",
     "text": [
      "\n",
      "Epoch: 23 | \t Loss(train): 1.41 | \t Loss(validation): 1.42 | \t Accuracy (train): 46.9% | \t Accuracy (validation): 47.4%\n"
     ]
    },
    {
     "name": "stderr",
     "output_type": "stream",
     "text": [
      "100%|████████████████████████████████████████████████████████████████████████████████| 865/865 [00:09<00:00, 92.62it/s]\n"
     ]
    },
    {
     "name": "stdout",
     "output_type": "stream",
     "text": [
      "\n",
      "Epoch: 24 | \t Loss(train): 1.39 | \t Loss(validation): 1.43 | \t Accuracy (train): 47.8% | \t Accuracy (validation): 47.9%\n"
     ]
    },
    {
     "name": "stderr",
     "output_type": "stream",
     "text": [
      "100%|████████████████████████████████████████████████████████████████████████████████| 865/865 [00:09<00:00, 92.38it/s]\n"
     ]
    },
    {
     "name": "stdout",
     "output_type": "stream",
     "text": [
      "\n",
      "Epoch: 25 | \t Loss(train): 1.39 | \t Loss(validation): 1.47 | \t Accuracy (train): 47.3% | \t Accuracy (validation): 44.9%\n"
     ]
    },
    {
     "name": "stderr",
     "output_type": "stream",
     "text": [
      "100%|████████████████████████████████████████████████████████████████████████████████| 865/865 [00:09<00:00, 92.77it/s]\n"
     ]
    },
    {
     "name": "stdout",
     "output_type": "stream",
     "text": [
      "\n",
      "Epoch: 26 | \t Loss(train): 1.37 | \t Loss(validation): 1.4 | \t Accuracy (train): 48.1% | \t Accuracy (validation): 48.199999999999996%\n"
     ]
    },
    {
     "name": "stderr",
     "output_type": "stream",
     "text": [
      "100%|████████████████████████████████████████████████████████████████████████████████| 865/865 [00:09<00:00, 92.10it/s]\n"
     ]
    },
    {
     "name": "stdout",
     "output_type": "stream",
     "text": [
      "\n",
      "Epoch: 27 | \t Loss(train): 1.38 | \t Loss(validation): 1.43 | \t Accuracy (train): 48.3% | \t Accuracy (validation): 47.199999999999996%\n"
     ]
    },
    {
     "name": "stderr",
     "output_type": "stream",
     "text": [
      "100%|████████████████████████████████████████████████████████████████████████████████| 865/865 [00:09<00:00, 92.37it/s]\n"
     ]
    },
    {
     "name": "stdout",
     "output_type": "stream",
     "text": [
      "\n",
      "Epoch: 28 | \t Loss(train): 1.37 | \t Loss(validation): 1.36 | \t Accuracy (train): 48.4% | \t Accuracy (validation): 50.2%\n"
     ]
    },
    {
     "name": "stderr",
     "output_type": "stream",
     "text": [
      "100%|████████████████████████████████████████████████████████████████████████████████| 865/865 [00:09<00:00, 92.68it/s]\n"
     ]
    },
    {
     "name": "stdout",
     "output_type": "stream",
     "text": [
      "\n",
      "Epoch: 29 | \t Loss(train): 1.35 | \t Loss(validation): 1.4 | \t Accuracy (train): 48.9% | \t Accuracy (validation): 49.1%\n"
     ]
    },
    {
     "name": "stderr",
     "output_type": "stream",
     "text": [
      "100%|████████████████████████████████████████████████████████████████████████████████| 865/865 [00:09<00:00, 92.36it/s]\n"
     ]
    },
    {
     "name": "stdout",
     "output_type": "stream",
     "text": [
      "\n",
      "Epoch: 30 | \t Loss(train): 1.34 | \t Loss(validation): 1.39 | \t Accuracy (train): 49.4% | \t Accuracy (validation): 48.8%\n"
     ]
    },
    {
     "name": "stderr",
     "output_type": "stream",
     "text": [
      "100%|████████████████████████████████████████████████████████████████████████████████| 865/865 [00:09<00:00, 92.85it/s]\n"
     ]
    },
    {
     "name": "stdout",
     "output_type": "stream",
     "text": [
      "\n",
      "Epoch: 31 | \t Loss(train): 1.35 | \t Loss(validation): 1.35 | \t Accuracy (train): 49.0% | \t Accuracy (validation): 50.0%\n"
     ]
    },
    {
     "name": "stderr",
     "output_type": "stream",
     "text": [
      "100%|████████████████████████████████████████████████████████████████████████████████| 865/865 [00:09<00:00, 92.58it/s]\n"
     ]
    },
    {
     "name": "stdout",
     "output_type": "stream",
     "text": [
      "\n",
      "Epoch: 32 | \t Loss(train): 1.34 | \t Loss(validation): 1.41 | \t Accuracy (train): 49.2% | \t Accuracy (validation): 47.9%\n"
     ]
    },
    {
     "name": "stderr",
     "output_type": "stream",
     "text": [
      "100%|████████████████████████████████████████████████████████████████████████████████| 865/865 [00:09<00:00, 90.82it/s]\n"
     ]
    },
    {
     "name": "stdout",
     "output_type": "stream",
     "text": [
      "\n",
      "Epoch: 33 | \t Loss(train): 1.34 | \t Loss(validation): 1.35 | \t Accuracy (train): 49.5% | \t Accuracy (validation): 50.3%\n"
     ]
    },
    {
     "name": "stderr",
     "output_type": "stream",
     "text": [
      "100%|████████████████████████████████████████████████████████████████████████████████| 865/865 [00:09<00:00, 90.77it/s]\n"
     ]
    },
    {
     "name": "stdout",
     "output_type": "stream",
     "text": [
      "\n",
      "Epoch: 34 | \t Loss(train): 1.32 | \t Loss(validation): 1.36 | \t Accuracy (train): 50.0% | \t Accuracy (validation): 49.7%\n"
     ]
    },
    {
     "name": "stderr",
     "output_type": "stream",
     "text": [
      "100%|████████████████████████████████████████████████████████████████████████████████| 865/865 [00:09<00:00, 92.09it/s]\n"
     ]
    },
    {
     "name": "stdout",
     "output_type": "stream",
     "text": [
      "\n",
      "Epoch: 35 | \t Loss(train): 1.32 | \t Loss(validation): 1.34 | \t Accuracy (train): 49.8% | \t Accuracy (validation): 50.1%\n"
     ]
    },
    {
     "name": "stderr",
     "output_type": "stream",
     "text": [
      "100%|████████████████████████████████████████████████████████████████████████████████| 865/865 [00:09<00:00, 92.14it/s]\n"
     ]
    },
    {
     "name": "stdout",
     "output_type": "stream",
     "text": [
      "\n",
      "Epoch: 36 | \t Loss(train): 1.32 | \t Loss(validation): 1.33 | \t Accuracy (train): 49.9% | \t Accuracy (validation): 50.5%\n"
     ]
    },
    {
     "name": "stderr",
     "output_type": "stream",
     "text": [
      "100%|████████████████████████████████████████████████████████████████████████████████| 865/865 [00:09<00:00, 92.37it/s]\n"
     ]
    },
    {
     "name": "stdout",
     "output_type": "stream",
     "text": [
      "\n",
      "Epoch: 37 | \t Loss(train): 1.32 | \t Loss(validation): 1.35 | \t Accuracy (train): 50.4% | \t Accuracy (validation): 49.2%\n"
     ]
    },
    {
     "name": "stderr",
     "output_type": "stream",
     "text": [
      "100%|████████████████████████████████████████████████████████████████████████████████| 865/865 [00:09<00:00, 91.98it/s]\n"
     ]
    },
    {
     "name": "stdout",
     "output_type": "stream",
     "text": [
      "\n",
      "Epoch: 38 | \t Loss(train): 1.3 | \t Loss(validation): 1.35 | \t Accuracy (train): 51.4% | \t Accuracy (validation): 49.0%\n"
     ]
    },
    {
     "name": "stderr",
     "output_type": "stream",
     "text": [
      "100%|████████████████████████████████████████████████████████████████████████████████| 865/865 [00:09<00:00, 91.99it/s]\n"
     ]
    },
    {
     "name": "stdout",
     "output_type": "stream",
     "text": [
      "\n",
      "Epoch: 39 | \t Loss(train): 1.3 | \t Loss(validation): 1.34 | \t Accuracy (train): 51.5% | \t Accuracy (validation): 50.1%\n"
     ]
    },
    {
     "name": "stderr",
     "output_type": "stream",
     "text": [
      "100%|████████████████████████████████████████████████████████████████████████████████| 865/865 [00:09<00:00, 91.71it/s]\n"
     ]
    },
    {
     "name": "stdout",
     "output_type": "stream",
     "text": [
      "\n",
      "Epoch: 40 | \t Loss(train): 1.3 | \t Loss(validation): 1.35 | \t Accuracy (train): 50.9% | \t Accuracy (validation): 49.2%\n"
     ]
    },
    {
     "name": "stderr",
     "output_type": "stream",
     "text": [
      "100%|████████████████████████████████████████████████████████████████████████████████| 865/865 [00:09<00:00, 92.31it/s]\n"
     ]
    },
    {
     "name": "stdout",
     "output_type": "stream",
     "text": [
      "\n",
      "Epoch: 41 | \t Loss(train): 1.28 | \t Loss(validation): 1.39 | \t Accuracy (train): 51.7% | \t Accuracy (validation): 49.4%\n"
     ]
    },
    {
     "name": "stderr",
     "output_type": "stream",
     "text": [
      "100%|████████████████████████████████████████████████████████████████████████████████| 865/865 [00:09<00:00, 92.33it/s]\n"
     ]
    },
    {
     "name": "stdout",
     "output_type": "stream",
     "text": [
      "\n",
      "Epoch: 42 | \t Loss(train): 1.28 | \t Loss(validation): 1.33 | \t Accuracy (train): 52.0% | \t Accuracy (validation): 51.1%\n"
     ]
    },
    {
     "name": "stderr",
     "output_type": "stream",
     "text": [
      "100%|████████████████████████████████████████████████████████████████████████████████| 865/865 [00:09<00:00, 88.01it/s]\n"
     ]
    },
    {
     "name": "stdout",
     "output_type": "stream",
     "text": [
      "\n",
      "Epoch: 43 | \t Loss(train): 1.28 | \t Loss(validation): 1.31 | \t Accuracy (train): 51.5% | \t Accuracy (validation): 50.9%\n"
     ]
    },
    {
     "name": "stderr",
     "output_type": "stream",
     "text": [
      "100%|████████████████████████████████████████████████████████████████████████████████| 865/865 [00:09<00:00, 90.21it/s]\n"
     ]
    },
    {
     "name": "stdout",
     "output_type": "stream",
     "text": [
      "\n",
      "Epoch: 44 | \t Loss(train): 1.27 | \t Loss(validation): 1.32 | \t Accuracy (train): 52.5% | \t Accuracy (validation): 51.4%\n"
     ]
    },
    {
     "name": "stderr",
     "output_type": "stream",
     "text": [
      "100%|████████████████████████████████████████████████████████████████████████████████| 865/865 [00:09<00:00, 90.33it/s]\n"
     ]
    },
    {
     "name": "stdout",
     "output_type": "stream",
     "text": [
      "\n",
      "Epoch: 45 | \t Loss(train): 1.27 | \t Loss(validation): 1.33 | \t Accuracy (train): 52.5% | \t Accuracy (validation): 49.1%\n"
     ]
    },
    {
     "name": "stderr",
     "output_type": "stream",
     "text": [
      "100%|████████████████████████████████████████████████████████████████████████████████| 865/865 [00:09<00:00, 90.29it/s]\n"
     ]
    },
    {
     "name": "stdout",
     "output_type": "stream",
     "text": [
      "\n",
      "Epoch: 46 | \t Loss(train): 1.26 | \t Loss(validation): 1.31 | \t Accuracy (train): 52.1% | \t Accuracy (validation): 50.9%\n"
     ]
    },
    {
     "name": "stderr",
     "output_type": "stream",
     "text": [
      "100%|████████████████████████████████████████████████████████████████████████████████| 865/865 [00:09<00:00, 90.56it/s]\n"
     ]
    },
    {
     "name": "stdout",
     "output_type": "stream",
     "text": [
      "\n",
      "Epoch: 47 | \t Loss(train): 1.25 | \t Loss(validation): 1.31 | \t Accuracy (train): 52.6% | \t Accuracy (validation): 50.7%\n"
     ]
    },
    {
     "name": "stderr",
     "output_type": "stream",
     "text": [
      "100%|████████████████████████████████████████████████████████████████████████████████| 865/865 [00:09<00:00, 90.30it/s]\n"
     ]
    },
    {
     "name": "stdout",
     "output_type": "stream",
     "text": [
      "\n",
      "Epoch: 48 | \t Loss(train): 1.24 | \t Loss(validation): 1.31 | \t Accuracy (train): 53.0% | \t Accuracy (validation): 51.7%\n"
     ]
    },
    {
     "name": "stderr",
     "output_type": "stream",
     "text": [
      "100%|████████████████████████████████████████████████████████████████████████████████| 865/865 [00:09<00:00, 94.16it/s]\n"
     ]
    },
    {
     "name": "stdout",
     "output_type": "stream",
     "text": [
      "\n",
      "Epoch: 49 | \t Loss(train): 1.25 | \t Loss(validation): 1.33 | \t Accuracy (train): 53.300000000000004% | \t Accuracy (validation): 51.0%\n"
     ]
    },
    {
     "name": "stderr",
     "output_type": "stream",
     "text": [
      "100%|████████████████████████████████████████████████████████████████████████████████| 865/865 [00:09<00:00, 90.49it/s]\n"
     ]
    },
    {
     "name": "stdout",
     "output_type": "stream",
     "text": [
      "\n",
      "Epoch: 50 | \t Loss(train): 1.24 | \t Loss(validation): 1.32 | \t Accuracy (train): 53.300000000000004% | \t Accuracy (validation): 51.6%\n"
     ]
    },
    {
     "name": "stderr",
     "output_type": "stream",
     "text": [
      "100%|████████████████████████████████████████████████████████████████████████████████| 865/865 [00:09<00:00, 92.39it/s]\n"
     ]
    },
    {
     "name": "stdout",
     "output_type": "stream",
     "text": [
      "\n",
      "Epoch: 51 | \t Loss(train): 1.23 | \t Loss(validation): 1.33 | \t Accuracy (train): 53.6% | \t Accuracy (validation): 51.300000000000004%\n"
     ]
    },
    {
     "name": "stderr",
     "output_type": "stream",
     "text": [
      "100%|████████████████████████████████████████████████████████████████████████████████| 865/865 [00:09<00:00, 92.54it/s]\n"
     ]
    },
    {
     "name": "stdout",
     "output_type": "stream",
     "text": [
      "\n",
      "Epoch: 52 | \t Loss(train): 1.23 | \t Loss(validation): 1.29 | \t Accuracy (train): 54.0% | \t Accuracy (validation): 52.5%\n"
     ]
    },
    {
     "name": "stderr",
     "output_type": "stream",
     "text": [
      "100%|████████████████████████████████████████████████████████████████████████████████| 865/865 [00:09<00:00, 91.97it/s]\n"
     ]
    },
    {
     "name": "stdout",
     "output_type": "stream",
     "text": [
      "\n",
      "Epoch: 53 | \t Loss(train): 1.21 | \t Loss(validation): 1.31 | \t Accuracy (train): 54.2% | \t Accuracy (validation): 52.300000000000004%\n"
     ]
    },
    {
     "name": "stderr",
     "output_type": "stream",
     "text": [
      "100%|████████████████████████████████████████████████████████████████████████████████| 865/865 [00:09<00:00, 92.58it/s]\n"
     ]
    },
    {
     "name": "stdout",
     "output_type": "stream",
     "text": [
      "\n",
      "Epoch: 54 | \t Loss(train): 1.21 | \t Loss(validation): 1.27 | \t Accuracy (train): 54.1% | \t Accuracy (validation): 52.7%\n"
     ]
    },
    {
     "name": "stderr",
     "output_type": "stream",
     "text": [
      "100%|████████████████████████████████████████████████████████████████████████████████| 865/865 [00:09<00:00, 91.74it/s]\n"
     ]
    },
    {
     "name": "stdout",
     "output_type": "stream",
     "text": [
      "\n",
      "Epoch: 55 | \t Loss(train): 1.21 | \t Loss(validation): 1.28 | \t Accuracy (train): 54.6% | \t Accuracy (validation): 53.2%\n"
     ]
    },
    {
     "name": "stderr",
     "output_type": "stream",
     "text": [
      "100%|████████████████████████████████████████████████████████████████████████████████| 865/865 [00:09<00:00, 92.25it/s]\n"
     ]
    },
    {
     "name": "stdout",
     "output_type": "stream",
     "text": [
      "\n",
      "Epoch: 56 | \t Loss(train): 1.2 | \t Loss(validation): 1.28 | \t Accuracy (train): 54.6% | \t Accuracy (validation): 53.1%\n"
     ]
    },
    {
     "name": "stderr",
     "output_type": "stream",
     "text": [
      "100%|████████████████████████████████████████████████████████████████████████████████| 865/865 [00:09<00:00, 92.25it/s]\n"
     ]
    },
    {
     "name": "stdout",
     "output_type": "stream",
     "text": [
      "\n",
      "Epoch: 57 | \t Loss(train): 1.19 | \t Loss(validation): 1.29 | \t Accuracy (train): 55.2% | \t Accuracy (validation): 53.400000000000006%\n"
     ]
    },
    {
     "name": "stderr",
     "output_type": "stream",
     "text": [
      "100%|████████████████████████████████████████████████████████████████████████████████| 865/865 [00:09<00:00, 91.97it/s]\n"
     ]
    },
    {
     "name": "stdout",
     "output_type": "stream",
     "text": [
      "\n",
      "Epoch: 58 | \t Loss(train): 1.18 | \t Loss(validation): 1.29 | \t Accuracy (train): 55.300000000000004% | \t Accuracy (validation): 53.2%\n"
     ]
    },
    {
     "name": "stderr",
     "output_type": "stream",
     "text": [
      "100%|████████████████████████████████████████████████████████████████████████████████| 865/865 [00:09<00:00, 91.99it/s]\n"
     ]
    },
    {
     "name": "stdout",
     "output_type": "stream",
     "text": [
      "\n",
      "Epoch: 59 | \t Loss(train): 1.18 | \t Loss(validation): 1.26 | \t Accuracy (train): 55.400000000000006% | \t Accuracy (validation): 53.800000000000004%\n"
     ]
    },
    {
     "name": "stderr",
     "output_type": "stream",
     "text": [
      "100%|████████████████████████████████████████████████████████████████████████████████| 865/865 [00:09<00:00, 88.74it/s]\n"
     ]
    },
    {
     "name": "stdout",
     "output_type": "stream",
     "text": [
      "\n",
      "Epoch: 60 | \t Loss(train): 1.18 | \t Loss(validation): 1.28 | \t Accuracy (train): 56.3% | \t Accuracy (validation): 53.400000000000006%\n"
     ]
    },
    {
     "name": "stderr",
     "output_type": "stream",
     "text": [
      "100%|████████████████████████████████████████████████████████████████████████████████| 865/865 [00:09<00:00, 90.95it/s]\n"
     ]
    },
    {
     "name": "stdout",
     "output_type": "stream",
     "text": [
      "\n",
      "Epoch: 61 | \t Loss(train): 1.18 | \t Loss(validation): 1.28 | \t Accuracy (train): 55.900000000000006% | \t Accuracy (validation): 54.50000000000001%\n"
     ]
    },
    {
     "name": "stderr",
     "output_type": "stream",
     "text": [
      "100%|████████████████████████████████████████████████████████████████████████████████| 865/865 [00:09<00:00, 91.28it/s]\n"
     ]
    },
    {
     "name": "stdout",
     "output_type": "stream",
     "text": [
      "\n",
      "Epoch: 62 | \t Loss(train): 1.17 | \t Loss(validation): 1.28 | \t Accuracy (train): 56.10000000000001% | \t Accuracy (validation): 53.6%\n"
     ]
    },
    {
     "name": "stderr",
     "output_type": "stream",
     "text": [
      "100%|████████████████████████████████████████████████████████████████████████████████| 865/865 [00:09<00:00, 91.02it/s]\n"
     ]
    },
    {
     "name": "stdout",
     "output_type": "stream",
     "text": [
      "\n",
      "Epoch: 63 | \t Loss(train): 1.17 | \t Loss(validation): 1.26 | \t Accuracy (train): 56.10000000000001% | \t Accuracy (validation): 54.2%\n"
     ]
    },
    {
     "name": "stderr",
     "output_type": "stream",
     "text": [
      "100%|████████████████████████████████████████████████████████████████████████████████| 865/865 [00:09<00:00, 87.09it/s]\n"
     ]
    },
    {
     "name": "stdout",
     "output_type": "stream",
     "text": [
      "\n",
      "Epoch: 64 | \t Loss(train): 1.16 | \t Loss(validation): 1.27 | \t Accuracy (train): 56.39999999999999% | \t Accuracy (validation): 53.800000000000004%\n"
     ]
    },
    {
     "name": "stderr",
     "output_type": "stream",
     "text": [
      "100%|████████████████████████████████████████████████████████████████████████████████| 865/865 [00:10<00:00, 81.45it/s]\n"
     ]
    },
    {
     "name": "stdout",
     "output_type": "stream",
     "text": [
      "\n",
      "Epoch: 65 | \t Loss(train): 1.15 | \t Loss(validation): 1.26 | \t Accuracy (train): 56.39999999999999% | \t Accuracy (validation): 54.0%\n"
     ]
    },
    {
     "name": "stderr",
     "output_type": "stream",
     "text": [
      "100%|████████████████████████████████████████████████████████████████████████████████| 865/865 [00:09<00:00, 91.52it/s]\n"
     ]
    },
    {
     "name": "stdout",
     "output_type": "stream",
     "text": [
      "\n",
      "Epoch: 66 | \t Loss(train): 1.16 | \t Loss(validation): 1.26 | \t Accuracy (train): 56.10000000000001% | \t Accuracy (validation): 54.2%\n"
     ]
    },
    {
     "name": "stderr",
     "output_type": "stream",
     "text": [
      "100%|████████████████████████████████████████████████████████████████████████████████| 865/865 [00:09<00:00, 92.48it/s]\n"
     ]
    },
    {
     "name": "stdout",
     "output_type": "stream",
     "text": [
      "\n",
      "Epoch: 67 | \t Loss(train): 1.15 | \t Loss(validation): 1.25 | \t Accuracy (train): 56.99999999999999% | \t Accuracy (validation): 54.300000000000004%\n"
     ]
    },
    {
     "name": "stderr",
     "output_type": "stream",
     "text": [
      "100%|████████████████████████████████████████████████████████████████████████████████| 865/865 [00:09<00:00, 91.99it/s]\n"
     ]
    },
    {
     "name": "stdout",
     "output_type": "stream",
     "text": [
      "\n",
      "Epoch: 68 | \t Loss(train): 1.14 | \t Loss(validation): 1.27 | \t Accuracy (train): 57.099999999999994% | \t Accuracy (validation): 54.2%\n"
     ]
    },
    {
     "name": "stderr",
     "output_type": "stream",
     "text": [
      "100%|████████████████████████████████████████████████████████████████████████████████| 865/865 [00:09<00:00, 91.87it/s]\n"
     ]
    },
    {
     "name": "stdout",
     "output_type": "stream",
     "text": [
      "\n",
      "Epoch: 69 | \t Loss(train): 1.14 | \t Loss(validation): 1.26 | \t Accuracy (train): 57.49999999999999% | \t Accuracy (validation): 53.1%\n"
     ]
    },
    {
     "name": "stderr",
     "output_type": "stream",
     "text": [
      "100%|████████████████████████████████████████████████████████████████████████████████| 865/865 [00:09<00:00, 92.82it/s]\n"
     ]
    },
    {
     "name": "stdout",
     "output_type": "stream",
     "text": [
      "\n",
      "Epoch: 70 | \t Loss(train): 1.13 | \t Loss(validation): 1.24 | \t Accuracy (train): 57.599999999999994% | \t Accuracy (validation): 53.6%\n"
     ]
    },
    {
     "name": "stderr",
     "output_type": "stream",
     "text": [
      "100%|████████████████████████████████████████████████████████████████████████████████| 865/865 [00:09<00:00, 91.69it/s]\n"
     ]
    },
    {
     "name": "stdout",
     "output_type": "stream",
     "text": [
      "\n",
      "Epoch: 71 | \t Loss(train): 1.13 | \t Loss(validation): 1.23 | \t Accuracy (train): 57.8% | \t Accuracy (validation): 54.400000000000006%\n"
     ]
    },
    {
     "name": "stderr",
     "output_type": "stream",
     "text": [
      "100%|████████████████████████████████████████████████████████████████████████████████| 865/865 [00:13<00:00, 65.80it/s]\n"
     ]
    },
    {
     "name": "stdout",
     "output_type": "stream",
     "text": [
      "\n",
      "Epoch: 72 | \t Loss(train): 1.14 | \t Loss(validation): 1.27 | \t Accuracy (train): 57.599999999999994% | \t Accuracy (validation): 53.400000000000006%\n"
     ]
    },
    {
     "name": "stderr",
     "output_type": "stream",
     "text": [
      "100%|████████████████████████████████████████████████████████████████████████████████| 865/865 [00:09<00:00, 88.48it/s]\n"
     ]
    },
    {
     "name": "stdout",
     "output_type": "stream",
     "text": [
      "\n",
      "Epoch: 73 | \t Loss(train): 1.12 | \t Loss(validation): 1.26 | \t Accuracy (train): 57.99999999999999% | \t Accuracy (validation): 55.00000000000001%\n"
     ]
    },
    {
     "name": "stderr",
     "output_type": "stream",
     "text": [
      "100%|████████████████████████████████████████████████████████████████████████████████| 865/865 [00:09<00:00, 91.99it/s]\n"
     ]
    },
    {
     "name": "stdout",
     "output_type": "stream",
     "text": [
      "\n",
      "Epoch: 74 | \t Loss(train): 1.12 | \t Loss(validation): 1.25 | \t Accuracy (train): 57.99999999999999% | \t Accuracy (validation): 54.300000000000004%\n"
     ]
    },
    {
     "name": "stderr",
     "output_type": "stream",
     "text": [
      "100%|████████████████████████████████████████████████████████████████████████████████| 865/865 [00:09<00:00, 92.60it/s]\n"
     ]
    },
    {
     "name": "stdout",
     "output_type": "stream",
     "text": [
      "\n",
      "Epoch: 75 | \t Loss(train): 1.12 | \t Loss(validation): 1.24 | \t Accuracy (train): 58.099999999999994% | \t Accuracy (validation): 54.2%\n"
     ]
    },
    {
     "name": "stderr",
     "output_type": "stream",
     "text": [
      "100%|████████████████████████████████████████████████████████████████████████████████| 865/865 [00:09<00:00, 92.65it/s]\n"
     ]
    },
    {
     "name": "stdout",
     "output_type": "stream",
     "text": [
      "\n",
      "Epoch: 76 | \t Loss(train): 1.11 | \t Loss(validation): 1.24 | \t Accuracy (train): 58.5% | \t Accuracy (validation): 54.900000000000006%\n"
     ]
    },
    {
     "name": "stderr",
     "output_type": "stream",
     "text": [
      "100%|████████████████████████████████████████████████████████████████████████████████| 865/865 [00:09<00:00, 90.90it/s]\n"
     ]
    },
    {
     "name": "stdout",
     "output_type": "stream",
     "text": [
      "\n",
      "Epoch: 77 | \t Loss(train): 1.12 | \t Loss(validation): 1.23 | \t Accuracy (train): 58.199999999999996% | \t Accuracy (validation): 54.7%\n"
     ]
    },
    {
     "name": "stderr",
     "output_type": "stream",
     "text": [
      "100%|████████████████████████████████████████████████████████████████████████████████| 865/865 [00:09<00:00, 92.88it/s]\n"
     ]
    },
    {
     "name": "stdout",
     "output_type": "stream",
     "text": [
      "\n",
      "Epoch: 78 | \t Loss(train): 1.1 | \t Loss(validation): 1.27 | \t Accuracy (train): 58.8% | \t Accuracy (validation): 54.50000000000001%\n"
     ]
    },
    {
     "name": "stderr",
     "output_type": "stream",
     "text": [
      "100%|████████████████████████████████████████████████████████████████████████████████| 865/865 [00:09<00:00, 90.46it/s]\n"
     ]
    },
    {
     "name": "stdout",
     "output_type": "stream",
     "text": [
      "\n",
      "Epoch: 79 | \t Loss(train): 1.11 | \t Loss(validation): 1.23 | \t Accuracy (train): 58.699999999999996% | \t Accuracy (validation): 55.00000000000001%\n"
     ]
    },
    {
     "name": "stderr",
     "output_type": "stream",
     "text": [
      "100%|████████████████████████████████████████████████████████████████████████████████| 865/865 [00:09<00:00, 92.19it/s]\n"
     ]
    },
    {
     "name": "stdout",
     "output_type": "stream",
     "text": [
      "\n",
      "Epoch: 80 | \t Loss(train): 1.1 | \t Loss(validation): 1.25 | \t Accuracy (train): 58.9% | \t Accuracy (validation): 54.6%\n"
     ]
    },
    {
     "name": "stderr",
     "output_type": "stream",
     "text": [
      "100%|████████████████████████████████████████████████████████████████████████████████| 865/865 [00:09<00:00, 91.39it/s]\n"
     ]
    },
    {
     "name": "stdout",
     "output_type": "stream",
     "text": [
      "\n",
      "Epoch: 81 | \t Loss(train): 1.1 | \t Loss(validation): 1.24 | \t Accuracy (train): 58.9% | \t Accuracy (validation): 54.900000000000006%\n"
     ]
    },
    {
     "name": "stderr",
     "output_type": "stream",
     "text": [
      "100%|████████████████████████████████████████████████████████████████████████████████| 865/865 [00:09<00:00, 92.30it/s]\n"
     ]
    },
    {
     "name": "stdout",
     "output_type": "stream",
     "text": [
      "\n",
      "Epoch: 82 | \t Loss(train): 1.1 | \t Loss(validation): 1.23 | \t Accuracy (train): 58.8% | \t Accuracy (validation): 54.7%\n"
     ]
    },
    {
     "name": "stderr",
     "output_type": "stream",
     "text": [
      "100%|████████████████████████████████████████████████████████████████████████████████| 865/865 [00:09<00:00, 92.64it/s]\n"
     ]
    },
    {
     "name": "stdout",
     "output_type": "stream",
     "text": [
      "\n",
      "Epoch: 83 | \t Loss(train): 1.09 | \t Loss(validation): 1.26 | \t Accuracy (train): 59.5% | \t Accuracy (validation): 54.400000000000006%\n"
     ]
    },
    {
     "name": "stderr",
     "output_type": "stream",
     "text": [
      "100%|████████████████████████████████████████████████████████████████████████████████| 865/865 [00:09<00:00, 92.30it/s]\n"
     ]
    },
    {
     "name": "stdout",
     "output_type": "stream",
     "text": [
      "\n",
      "Epoch: 84 | \t Loss(train): 1.1 | \t Loss(validation): 1.27 | \t Accuracy (train): 59.0% | \t Accuracy (validation): 54.900000000000006%\n"
     ]
    },
    {
     "name": "stderr",
     "output_type": "stream",
     "text": [
      "100%|████████████████████████████████████████████████████████████████████████████████| 865/865 [00:09<00:00, 92.14it/s]\n"
     ]
    },
    {
     "name": "stdout",
     "output_type": "stream",
     "text": [
      "\n",
      "Epoch: 85 | \t Loss(train): 1.07 | \t Loss(validation): 1.23 | \t Accuracy (train): 59.5% | \t Accuracy (validation): 55.800000000000004%\n"
     ]
    },
    {
     "name": "stderr",
     "output_type": "stream",
     "text": [
      "100%|████████████████████████████████████████████████████████████████████████████████| 865/865 [00:09<00:00, 87.03it/s]\n"
     ]
    },
    {
     "name": "stdout",
     "output_type": "stream",
     "text": [
      "\n",
      "Epoch: 86 | \t Loss(train): 1.08 | \t Loss(validation): 1.22 | \t Accuracy (train): 59.199999999999996% | \t Accuracy (validation): 55.60000000000001%\n"
     ]
    },
    {
     "name": "stderr",
     "output_type": "stream",
     "text": [
      "100%|████████████████████████████████████████████████████████████████████████████████| 865/865 [00:09<00:00, 86.73it/s]\n"
     ]
    },
    {
     "name": "stdout",
     "output_type": "stream",
     "text": [
      "\n",
      "Epoch: 87 | \t Loss(train): 1.08 | \t Loss(validation): 1.25 | \t Accuracy (train): 59.3% | \t Accuracy (validation): 54.50000000000001%\n"
     ]
    },
    {
     "name": "stderr",
     "output_type": "stream",
     "text": [
      "100%|████████████████████████████████████████████████████████████████████████████████| 865/865 [00:09<00:00, 90.10it/s]\n"
     ]
    },
    {
     "name": "stdout",
     "output_type": "stream",
     "text": [
      "\n",
      "Epoch: 88 | \t Loss(train): 1.07 | \t Loss(validation): 1.25 | \t Accuracy (train): 59.9% | \t Accuracy (validation): 56.00000000000001%\n"
     ]
    },
    {
     "name": "stderr",
     "output_type": "stream",
     "text": [
      "100%|████████████████████████████████████████████████████████████████████████████████| 865/865 [00:09<00:00, 89.98it/s]\n"
     ]
    },
    {
     "name": "stdout",
     "output_type": "stream",
     "text": [
      "\n",
      "Epoch: 89 | \t Loss(train): 1.07 | \t Loss(validation): 1.22 | \t Accuracy (train): 59.8% | \t Accuracy (validation): 56.599999999999994%\n"
     ]
    },
    {
     "name": "stderr",
     "output_type": "stream",
     "text": [
      "100%|████████████████████████████████████████████████████████████████████████████████| 865/865 [00:09<00:00, 89.28it/s]\n"
     ]
    },
    {
     "name": "stdout",
     "output_type": "stream",
     "text": [
      "\n",
      "Epoch: 90 | \t Loss(train): 1.07 | \t Loss(validation): 1.25 | \t Accuracy (train): 60.199999999999996% | \t Accuracy (validation): 55.300000000000004%\n"
     ]
    },
    {
     "name": "stderr",
     "output_type": "stream",
     "text": [
      "100%|████████████████████████████████████████████████████████████████████████████████| 865/865 [00:09<00:00, 89.35it/s]\n"
     ]
    },
    {
     "name": "stdout",
     "output_type": "stream",
     "text": [
      "\n",
      "Epoch: 91 | \t Loss(train): 1.07 | \t Loss(validation): 1.21 | \t Accuracy (train): 60.199999999999996% | \t Accuracy (validation): 56.2%\n"
     ]
    },
    {
     "name": "stderr",
     "output_type": "stream",
     "text": [
      "100%|████████████████████████████████████████████████████████████████████████████████| 865/865 [00:09<00:00, 90.01it/s]\n"
     ]
    },
    {
     "name": "stdout",
     "output_type": "stream",
     "text": [
      "\n",
      "Epoch: 92 | \t Loss(train): 1.07 | \t Loss(validation): 1.23 | \t Accuracy (train): 60.099999999999994% | \t Accuracy (validation): 56.599999999999994%\n"
     ]
    },
    {
     "name": "stderr",
     "output_type": "stream",
     "text": [
      "100%|████████████████████████████████████████████████████████████████████████████████| 865/865 [00:09<00:00, 90.06it/s]\n"
     ]
    },
    {
     "name": "stdout",
     "output_type": "stream",
     "text": [
      "\n",
      "Epoch: 93 | \t Loss(train): 1.06 | \t Loss(validation): 1.25 | \t Accuracy (train): 60.9% | \t Accuracy (validation): 56.3%\n"
     ]
    },
    {
     "name": "stderr",
     "output_type": "stream",
     "text": [
      "100%|████████████████████████████████████████████████████████████████████████████████| 865/865 [00:09<00:00, 90.17it/s]\n"
     ]
    },
    {
     "name": "stdout",
     "output_type": "stream",
     "text": [
      "\n",
      "Epoch: 94 | \t Loss(train): 1.05 | \t Loss(validation): 1.21 | \t Accuracy (train): 60.699999999999996% | \t Accuracy (validation): 55.800000000000004%\n"
     ]
    },
    {
     "name": "stderr",
     "output_type": "stream",
     "text": [
      "100%|████████████████████████████████████████████████████████████████████████████████| 865/865 [00:10<00:00, 82.07it/s]\n"
     ]
    },
    {
     "name": "stdout",
     "output_type": "stream",
     "text": [
      "\n",
      "Epoch: 95 | \t Loss(train): 1.05 | \t Loss(validation): 1.21 | \t Accuracy (train): 60.8% | \t Accuracy (validation): 56.89999999999999%\n"
     ]
    },
    {
     "name": "stderr",
     "output_type": "stream",
     "text": [
      "100%|████████████████████████████████████████████████████████████████████████████████| 865/865 [00:13<00:00, 65.16it/s]\n"
     ]
    },
    {
     "name": "stdout",
     "output_type": "stream",
     "text": [
      "\n",
      "Epoch: 96 | \t Loss(train): 1.05 | \t Loss(validation): 1.2 | \t Accuracy (train): 61.199999999999996% | \t Accuracy (validation): 56.39999999999999%\n"
     ]
    },
    {
     "name": "stderr",
     "output_type": "stream",
     "text": [
      "100%|████████████████████████████████████████████████████████████████████████████████| 865/865 [00:10<00:00, 86.11it/s]\n"
     ]
    },
    {
     "name": "stdout",
     "output_type": "stream",
     "text": [
      "\n",
      "Epoch: 97 | \t Loss(train): 1.05 | \t Loss(validation): 1.2 | \t Accuracy (train): 61.4% | \t Accuracy (validation): 57.3%\n"
     ]
    },
    {
     "name": "stderr",
     "output_type": "stream",
     "text": [
      "100%|████████████████████████████████████████████████████████████████████████████████| 865/865 [00:10<00:00, 83.02it/s]\n"
     ]
    },
    {
     "name": "stdout",
     "output_type": "stream",
     "text": [
      "\n",
      "Epoch: 98 | \t Loss(train): 1.05 | \t Loss(validation): 1.24 | \t Accuracy (train): 60.4% | \t Accuracy (validation): 55.300000000000004%\n"
     ]
    },
    {
     "name": "stderr",
     "output_type": "stream",
     "text": [
      "100%|████████████████████████████████████████████████████████████████████████████████| 865/865 [00:10<00:00, 85.64it/s]\n"
     ]
    },
    {
     "name": "stdout",
     "output_type": "stream",
     "text": [
      "\n",
      "Epoch: 99 | \t Loss(train): 1.04 | \t Loss(validation): 1.22 | \t Accuracy (train): 61.0% | \t Accuracy (validation): 56.2%\n"
     ]
    },
    {
     "name": "stderr",
     "output_type": "stream",
     "text": [
      "100%|████████████████████████████████████████████████████████████████████████████████| 865/865 [00:09<00:00, 90.04it/s]\n"
     ]
    },
    {
     "name": "stdout",
     "output_type": "stream",
     "text": [
      "\n",
      "Epoch: 100 | \t Loss(train): 1.04 | \t Loss(validation): 1.24 | \t Accuracy (train): 61.1% | \t Accuracy (validation): 56.49999999999999%\n"
     ]
    },
    {
     "name": "stderr",
     "output_type": "stream",
     "text": [
      "100%|████████████████████████████████████████████████████████████████████████████████| 865/865 [00:09<00:00, 89.76it/s]\n"
     ]
    },
    {
     "name": "stdout",
     "output_type": "stream",
     "text": [
      "\n",
      "Epoch: 101 | \t Loss(train): 1.03 | \t Loss(validation): 1.22 | \t Accuracy (train): 61.5% | \t Accuracy (validation): 56.89999999999999%\n"
     ]
    },
    {
     "name": "stderr",
     "output_type": "stream",
     "text": [
      "100%|████████████████████████████████████████████████████████████████████████████████| 865/865 [00:09<00:00, 88.86it/s]\n"
     ]
    },
    {
     "name": "stdout",
     "output_type": "stream",
     "text": [
      "\n",
      "Epoch: 102 | \t Loss(train): 1.03 | \t Loss(validation): 1.23 | \t Accuracy (train): 61.5% | \t Accuracy (validation): 56.2%\n"
     ]
    },
    {
     "name": "stderr",
     "output_type": "stream",
     "text": [
      "100%|████████████████████████████████████████████████████████████████████████████████| 865/865 [00:09<00:00, 86.56it/s]\n"
     ]
    },
    {
     "name": "stdout",
     "output_type": "stream",
     "text": [
      "\n",
      "Epoch: 103 | \t Loss(train): 1.03 | \t Loss(validation): 1.23 | \t Accuracy (train): 61.9% | \t Accuracy (validation): 55.50000000000001%\n"
     ]
    },
    {
     "name": "stderr",
     "output_type": "stream",
     "text": [
      "100%|████████████████████████████████████████████████████████████████████████████████| 865/865 [00:09<00:00, 86.84it/s]\n"
     ]
    },
    {
     "name": "stdout",
     "output_type": "stream",
     "text": [
      "\n",
      "Epoch: 104 | \t Loss(train): 1.04 | \t Loss(validation): 1.24 | \t Accuracy (train): 61.5% | \t Accuracy (validation): 56.49999999999999%\n"
     ]
    },
    {
     "name": "stderr",
     "output_type": "stream",
     "text": [
      "100%|████████████████████████████████████████████████████████████████████████████████| 865/865 [00:09<00:00, 89.80it/s]\n"
     ]
    },
    {
     "name": "stdout",
     "output_type": "stream",
     "text": [
      "\n",
      "Epoch: 105 | \t Loss(train): 1.03 | \t Loss(validation): 1.21 | \t Accuracy (train): 61.8% | \t Accuracy (validation): 56.699999999999996%\n"
     ]
    },
    {
     "name": "stderr",
     "output_type": "stream",
     "text": [
      "100%|████████████████████████████████████████████████████████████████████████████████| 865/865 [00:09<00:00, 88.97it/s]\n"
     ]
    },
    {
     "name": "stdout",
     "output_type": "stream",
     "text": [
      "\n",
      "Epoch: 106 | \t Loss(train): 1.01 | \t Loss(validation): 1.22 | \t Accuracy (train): 62.5% | \t Accuracy (validation): 56.49999999999999%\n"
     ]
    },
    {
     "name": "stderr",
     "output_type": "stream",
     "text": [
      "100%|████████████████████████████████████████████████████████████████████████████████| 865/865 [00:09<00:00, 88.95it/s]\n"
     ]
    },
    {
     "name": "stdout",
     "output_type": "stream",
     "text": [
      "\n",
      "Epoch: 107 | \t Loss(train): 1.02 | \t Loss(validation): 1.23 | \t Accuracy (train): 62.2% | \t Accuracy (validation): 55.800000000000004%\n"
     ]
    },
    {
     "name": "stderr",
     "output_type": "stream",
     "text": [
      "100%|████████████████████████████████████████████████████████████████████████████████| 865/865 [00:09<00:00, 89.32it/s]\n"
     ]
    },
    {
     "name": "stdout",
     "output_type": "stream",
     "text": [
      "\n",
      "Epoch: 108 | \t Loss(train): 1.01 | \t Loss(validation): 1.2 | \t Accuracy (train): 62.2% | \t Accuracy (validation): 57.099999999999994%\n"
     ]
    },
    {
     "name": "stderr",
     "output_type": "stream",
     "text": [
      "100%|████████████████████████████████████████████████████████████████████████████████| 865/865 [00:09<00:00, 89.14it/s]\n"
     ]
    },
    {
     "name": "stdout",
     "output_type": "stream",
     "text": [
      "\n",
      "Epoch: 109 | \t Loss(train): 1.01 | \t Loss(validation): 1.24 | \t Accuracy (train): 61.9% | \t Accuracy (validation): 56.8%\n"
     ]
    },
    {
     "name": "stderr",
     "output_type": "stream",
     "text": [
      "100%|████████████████████████████████████████████████████████████████████████████████| 865/865 [00:09<00:00, 89.23it/s]\n"
     ]
    },
    {
     "name": "stdout",
     "output_type": "stream",
     "text": [
      "\n",
      "Epoch: 110 | \t Loss(train): 1.01 | \t Loss(validation): 1.21 | \t Accuracy (train): 62.6% | \t Accuracy (validation): 56.8%\n"
     ]
    },
    {
     "name": "stderr",
     "output_type": "stream",
     "text": [
      "100%|████████████████████████████████████████████████████████████████████████████████| 865/865 [00:09<00:00, 89.46it/s]\n"
     ]
    },
    {
     "name": "stdout",
     "output_type": "stream",
     "text": [
      "\n",
      "Epoch: 111 | \t Loss(train): 1.02 | \t Loss(validation): 1.26 | \t Accuracy (train): 62.3% | \t Accuracy (validation): 55.50000000000001%\n"
     ]
    },
    {
     "name": "stderr",
     "output_type": "stream",
     "text": [
      "100%|████████████████████████████████████████████████████████████████████████████████| 865/865 [00:09<00:00, 88.94it/s]\n"
     ]
    },
    {
     "name": "stdout",
     "output_type": "stream",
     "text": [
      "\n",
      "Epoch: 112 | \t Loss(train): 1.01 | \t Loss(validation): 1.22 | \t Accuracy (train): 62.5% | \t Accuracy (validation): 56.3%\n"
     ]
    },
    {
     "name": "stderr",
     "output_type": "stream",
     "text": [
      "100%|████████████████████████████████████████████████████████████████████████████████| 865/865 [00:09<00:00, 89.64it/s]\n"
     ]
    },
    {
     "name": "stdout",
     "output_type": "stream",
     "text": [
      "\n",
      "Epoch: 113 | \t Loss(train): 1.02 | \t Loss(validation): 1.22 | \t Accuracy (train): 63.2% | \t Accuracy (validation): 57.199999999999996%\n"
     ]
    },
    {
     "name": "stderr",
     "output_type": "stream",
     "text": [
      "100%|████████████████████████████████████████████████████████████████████████████████| 865/865 [00:09<00:00, 89.27it/s]\n"
     ]
    },
    {
     "name": "stdout",
     "output_type": "stream",
     "text": [
      "\n",
      "Epoch: 114 | \t Loss(train): 0.99 | \t Loss(validation): 1.22 | \t Accuracy (train): 63.6% | \t Accuracy (validation): 56.99999999999999%\n"
     ]
    },
    {
     "name": "stderr",
     "output_type": "stream",
     "text": [
      "100%|████████████████████████████████████████████████████████████████████████████████| 865/865 [00:09<00:00, 89.44it/s]\n"
     ]
    },
    {
     "name": "stdout",
     "output_type": "stream",
     "text": [
      "\n",
      "Epoch: 115 | \t Loss(train): 1.01 | \t Loss(validation): 1.22 | \t Accuracy (train): 62.1% | \t Accuracy (validation): 57.3%\n"
     ]
    },
    {
     "name": "stderr",
     "output_type": "stream",
     "text": [
      "100%|████████████████████████████████████████████████████████████████████████████████| 865/865 [00:09<00:00, 89.51it/s]\n"
     ]
    },
    {
     "name": "stdout",
     "output_type": "stream",
     "text": [
      "\n",
      "Epoch: 116 | \t Loss(train): 1.0 | \t Loss(validation): 1.2 | \t Accuracy (train): 63.4% | \t Accuracy (validation): 57.199999999999996%\n"
     ]
    },
    {
     "name": "stderr",
     "output_type": "stream",
     "text": [
      "100%|████████████████████████████████████████████████████████████████████████████████| 865/865 [00:09<00:00, 88.99it/s]\n"
     ]
    },
    {
     "name": "stdout",
     "output_type": "stream",
     "text": [
      "\n",
      "Epoch: 117 | \t Loss(train): 1.0 | \t Loss(validation): 1.26 | \t Accuracy (train): 63.2% | \t Accuracy (validation): 57.3%\n"
     ]
    },
    {
     "name": "stderr",
     "output_type": "stream",
     "text": [
      "100%|████████████████████████████████████████████████████████████████████████████████| 865/865 [00:12<00:00, 69.74it/s]\n"
     ]
    },
    {
     "name": "stdout",
     "output_type": "stream",
     "text": [
      "\n",
      "Epoch: 118 | \t Loss(train): 0.99 | \t Loss(validation): 1.19 | \t Accuracy (train): 63.2% | \t Accuracy (validation): 57.199999999999996%\n"
     ]
    },
    {
     "name": "stderr",
     "output_type": "stream",
     "text": [
      "100%|████████████████████████████████████████████████████████████████████████████████| 865/865 [00:10<00:00, 82.66it/s]\n"
     ]
    },
    {
     "name": "stdout",
     "output_type": "stream",
     "text": [
      "\n",
      "Epoch: 119 | \t Loss(train): 0.99 | \t Loss(validation): 1.21 | \t Accuracy (train): 63.5% | \t Accuracy (validation): 57.199999999999996%\n"
     ]
    },
    {
     "name": "stderr",
     "output_type": "stream",
     "text": [
      "100%|████████████████████████████████████████████████████████████████████████████████| 865/865 [00:10<00:00, 85.64it/s]\n"
     ]
    },
    {
     "name": "stdout",
     "output_type": "stream",
     "text": [
      "\n",
      "Epoch: 120 | \t Loss(train): 1.0 | \t Loss(validation): 1.26 | \t Accuracy (train): 63.1% | \t Accuracy (validation): 55.800000000000004%\n",
      "\n",
      "\n"
     ]
    },
    {
     "data": {
      "image/png": "[encoded data removed]",
      "text/plain": [
       "<Figure size 1152x576 with 2 Axes>"
      ]
     },
     "metadata": {
      "needs_background": "light"
     },
     "output_type": "display_data"
    }
   ],
   "source": [
    "acc1, acc2, lt, lv = train(loss_func, optm, epochs,cnn,train_loader, valid_loader)"
   ]
  },
  {
   "cell_type": "code",
   "execution_count": 143,
   "id": "dd3436f6",
   "metadata": {},
   "outputs": [],
   "source": [
    "PATH = \"cnnmelhorprovaamns.pth\"\n",
    "torch.save(cnn.state_dict(), PATH)"
   ]
  },
  {
   "cell_type": "code",
   "execution_count": 118,
   "id": "820fa4b9",
   "metadata": {},
   "outputs": [],
   "source": [
    "#Realizando a predição na validação\n",
    "y_trueval = []\n",
    "y_predval = []\n",
    "cnn.eval()\n",
    "\n",
    "with torch.no_grad():\n",
    "  for inp_valid, label_valid in valid_loader:\n",
    "                \n",
    "      #alocando o input e a label na GPU\n",
    "      inp_valid = inp_valid.to(device=device)\n",
    "      label_valid = label_valid.to(device=device)\n",
    "      \n",
    "      #predição do modelo em cima do input\n",
    "      predsval = cnn(inp_valid)\n",
    "      predsval = nn.functional.softmax(predsval, dim=1)\n",
    "\n",
    "      #preenchendo as listas referente ao y verdadeiro e y predito\n",
    "      for i in range(len(label_valid)):\n",
    "        y_trueval.append(int(label_valid[i].item()))\n",
    "        y_predval.append(int(torch.argmax(predsval[i]).item()))"
   ]
  },
  {
   "cell_type": "code",
   "execution_count": 119,
   "id": "fd421dfe",
   "metadata": {},
   "outputs": [],
   "source": [
    "y_trueval = torch.tensor(y_trueval)\n",
    "y_predval = torch.tensor(y_predval)"
   ]
  },
  {
   "cell_type": "code",
   "execution_count": 120,
   "id": "c1108373",
   "metadata": {},
   "outputs": [
    {
     "data": {
      "text/plain": [
       "tensor([[146,  15,  71,  52,  16,   7,   2],\n",
       "        [ 35, 130,  84,  40,  31,  18,   0],\n",
       "        [ 51,  18, 605,  71,  61,  32,   3],\n",
       "        [ 74,  37, 118, 343, 115,  10,   0],\n",
       "        [ 32,  20,  50,  83, 415,   7,   0],\n",
       "        [ 17,  26, 225,  24,  40, 282,   0],\n",
       "        [  6,   0,  22,   4,   9,   3,   8]])"
      ]
     },
     "execution_count": 120,
     "metadata": {},
     "output_type": "execute_result"
    }
   ],
   "source": [
    "#Vendo os resultados/métricas para a validação\n",
    "from torchmetrics import ConfusionMatrix\n",
    "from sklearn.metrics import ConfusionMatrixDisplay\n",
    "#montando a matriz de confusão\n",
    "confmat = ConfusionMatrix(num_classes=7)\n",
    "confmat(y_predval, y_trueval)"
   ]
  },
  {
   "cell_type": "code",
   "execution_count": 121,
   "id": "7e4c7a4f",
   "metadata": {},
   "outputs": [
    {
     "data": {
      "image/png": "[encoded data removed]",
      "text/plain": [
       "<Figure size 432x288 with 2 Axes>"
      ]
     },
     "metadata": {
      "needs_background": "light"
     },
     "output_type": "display_data"
    }
   ],
   "source": [
    "matrizconfusao = confmat(y_predval,y_trueval)\n",
    "disp = ConfusionMatrixDisplay(confusion_matrix=np.array(matrizconfusao))\n",
    "disp.plot()\n",
    "plt.show()"
   ]
  },
  {
   "cell_type": "code",
   "execution_count": 122,
   "id": "42da1a9c",
   "metadata": {},
   "outputs": [
    {
     "name": "stdout",
     "output_type": "stream",
     "text": [
      "              precision    recall  f1-score   support\n",
      "\n",
      "        Fear       0.40      0.47      0.44       309\n",
      "     Disgust       0.53      0.38      0.45       338\n",
      "       Happy       0.51      0.72      0.60       841\n",
      "         Sad       0.56      0.49      0.52       697\n",
      "     Neutral       0.60      0.68      0.64       607\n",
      "       Angry       0.79      0.46      0.58       614\n",
      "    Surprise       0.62      0.15      0.25        52\n",
      "\n",
      "    accuracy                           0.56      3458\n",
      "   macro avg       0.57      0.48      0.50      3458\n",
      "weighted avg       0.58      0.56      0.55      3458\n",
      "\n"
     ]
    }
   ],
   "source": [
    "from sklearn.metrics import classification_report\n",
    "#{\"fear\":0, \"disgust\":1, \"happy\":2, \"sad\":3, \"neutral\":4, \"angry\":5, \"surprise\":6}\n",
    "target_names = ['Fear', 'Disgust', 'Happy','Sad','Neutral','Angry','Surprise']\n",
    "report = classification_report(np.array(y_trueval),np.array(y_predval),target_names= target_names)\n",
    "print(report)"
   ]
  },
  {
   "cell_type": "code",
   "execution_count": 123,
   "id": "8a653d9b",
   "metadata": {},
   "outputs": [
    {
     "name": "stdout",
     "output_type": "stream",
     "text": [
      "There are 1144 samples in the dataset.\n"
     ]
    }
   ],
   "source": [
    "#Captando os dados de teste com ruído\n",
    "ANNOTATIONS_FILE = \"metadata/testeravdessruidoso.csv\"\n",
    "SAMPLE_RATE = 16000\n",
    "NUM_SAMPLES = 4*16000\n",
    "\n",
    "mel_spectrogram = torchaudio.transforms.MelSpectrogram(\n",
    "    sample_rate=SAMPLE_RATE,\n",
    "    n_fft=1024,\n",
    "    hop_length=512,\n",
    "    n_mels=64\n",
    ")\n",
    "test_data = SerDataset(ANNOTATIONS_FILE,mel_spectrogram,SAMPLE_RATE,NUM_SAMPLES,device)\n",
    "\n",
    "print(f\"There are {len(test_data)} samples in the dataset.\")"
   ]
  },
  {
   "cell_type": "code",
   "execution_count": 124,
   "id": "aa728b6c",
   "metadata": {},
   "outputs": [],
   "source": [
    "#criando o dataloader\n",
    "test_loader= DataLoader(dataset = test_data, batch_size = batch_size, shuffle=True)"
   ]
  },
  {
   "cell_type": "code",
   "execution_count": 126,
   "id": "cee75751",
   "metadata": {},
   "outputs": [],
   "source": [
    "#sessão de teste com ruído\n",
    "\n",
    "#lista para armazenar os y verdadeiros\n",
    "y_truetest = []\n",
    "#lista para armazenar os y preditos\n",
    "y_predtest = []\n",
    "\n",
    "cnn.eval()\n",
    "\n",
    "with torch.no_grad():\n",
    "  for inp_test, label_test in test_loader:\n",
    "                \n",
    "      #alocando o input e a label na GPU\n",
    "      inp_test = inp_test.to(device=device)\n",
    "      label_test = label_test.to(device=device)\n",
    "      \n",
    "      #predição do modelo em cima do input\n",
    "      preds3 = cnn(inp_test)\n",
    "      preds3 = nn.functional.softmax(preds3, dim=1)\n",
    "\n",
    "      #preenchendo as listas referente ao y verdadeiro e y predito\n",
    "      for i in range(len(label_test)):\n",
    "        y_truetest.append(int(label_test[i].item()))\n",
    "        y_predtest.append(int(torch.argmax(preds3[i]).item()))"
   ]
  },
  {
   "cell_type": "code",
   "execution_count": 127,
   "id": "2930eb56",
   "metadata": {},
   "outputs": [],
   "source": [
    "y_truetest = torch.tensor(y_truetest)\n",
    "y_predtest = torch.tensor(y_predtest)"
   ]
  },
  {
   "cell_type": "code",
   "execution_count": 129,
   "id": "eec6c043",
   "metadata": {},
   "outputs": [
    {
     "data": {
      "text/plain": [
       "tensor([[  5,   6, 123,  16,  18,   8,   0],\n",
       "        [  2,  23, 103,  37,   7,   4,   0],\n",
       "        [  4,  13, 117,  27,  11,   4,   0],\n",
       "        [  1,   5,  74,  77,  19,   0,   0],\n",
       "        [  4,  15,  33,  28,   8,   0,   0],\n",
       "        [  0,  14,  80,   7,   9,  66,   0],\n",
       "        [  1,  12, 132,  16,   6,   9,   0]])"
      ]
     },
     "execution_count": 129,
     "metadata": {},
     "output_type": "execute_result"
    }
   ],
   "source": [
    "##Vendo os resultados/métricas para o teste com ruído\n",
    "#montando a matriz de confusão\n",
    "confmat = ConfusionMatrix(num_classes=7)\n",
    "confmat(y_predtest, y_truetest)"
   ]
  },
  {
   "cell_type": "code",
   "execution_count": 130,
   "id": "d4231e20",
   "metadata": {},
   "outputs": [
    {
     "data": {
      "image/png": "[encoded data removed]",
      "text/plain": [
       "<Figure size 432x288 with 2 Axes>"
      ]
     },
     "metadata": {
      "needs_background": "light"
     },
     "output_type": "display_data"
    }
   ],
   "source": [
    "matrizconfusao = confmat(y_predtest,y_truetest)\n",
    "disp = ConfusionMatrixDisplay(confusion_matrix=np.array(matrizconfusao))\n",
    "disp.plot()\n",
    "plt.show()"
   ]
  },
  {
   "cell_type": "code",
   "execution_count": 131,
   "id": "1ad10cf5",
   "metadata": {},
   "outputs": [
    {
     "name": "stdout",
     "output_type": "stream",
     "text": [
      "              precision    recall  f1-score   support\n",
      "\n",
      "        Fear       0.29      0.03      0.05       176\n",
      "     Disgust       0.26      0.13      0.17       176\n",
      "       Happy       0.18      0.66      0.28       176\n",
      "         Sad       0.37      0.44      0.40       176\n",
      "     Neutral       0.10      0.09      0.10        88\n",
      "       Angry       0.73      0.38      0.49       176\n",
      "    Surprise       0.00      0.00      0.00       176\n",
      "\n",
      "    accuracy                           0.26      1144\n",
      "   macro avg       0.28      0.25      0.21      1144\n",
      "weighted avg       0.29      0.26      0.22      1144\n",
      "\n"
     ]
    },
    {
     "name": "stderr",
     "output_type": "stream",
     "text": [
      "C:\\Users\\heloi\\anaconda3\\lib\\site-packages\\sklearn\\metrics\\_classification.py:1318: UndefinedMetricWarning: Precision and F-score are ill-defined and being set to 0.0 in labels with no predicted samples. Use `zero_division` parameter to control this behavior.\n",
      "  _warn_prf(average, modifier, msg_start, len(result))\n",
      "C:\\Users\\heloi\\anaconda3\\lib\\site-packages\\sklearn\\metrics\\_classification.py:1318: UndefinedMetricWarning: Precision and F-score are ill-defined and being set to 0.0 in labels with no predicted samples. Use `zero_division` parameter to control this behavior.\n",
      "  _warn_prf(average, modifier, msg_start, len(result))\n",
      "C:\\Users\\heloi\\anaconda3\\lib\\site-packages\\sklearn\\metrics\\_classification.py:1318: UndefinedMetricWarning: Precision and F-score are ill-defined and being set to 0.0 in labels with no predicted samples. Use `zero_division` parameter to control this behavior.\n",
      "  _warn_prf(average, modifier, msg_start, len(result))\n"
     ]
    }
   ],
   "source": [
    "from sklearn.metrics import classification_report\n",
    "#{\"fear\":0, \"disgust\":1, \"happy\":2, \"sad\":3, \"neutral\":4, \"angry\":5, \"surprise\":6}\n",
    "target_names = ['Fear', 'Disgust', 'Happy','Sad','Neutral','Angry','Surprise']\n",
    "report = classification_report(np.array(y_truetest),np.array(y_predtest),target_names= target_names)\n",
    "print(report)"
   ]
  },
  {
   "cell_type": "code",
   "execution_count": 132,
   "id": "2fac6ac0",
   "metadata": {},
   "outputs": [
    {
     "name": "stdout",
     "output_type": "stream",
     "text": [
      "There are 1144 samples in the dataset.\n"
     ]
    }
   ],
   "source": [
    "#Captando os dados para o teste sem ruído\n",
    "ANNOTATIONS_FILE = \"metadata/testeravdess.csv\"\n",
    "SAMPLE_RATE = 16000\n",
    "NUM_SAMPLES = 4*16000\n",
    "\n",
    "mel_spectrogram = torchaudio.transforms.MelSpectrogram(\n",
    "    sample_rate=SAMPLE_RATE,\n",
    "    n_fft=1024,\n",
    "    hop_length=512,\n",
    "    n_mels=64\n",
    ")\n",
    "test_data2 = SerDataset(ANNOTATIONS_FILE,mel_spectrogram,SAMPLE_RATE,NUM_SAMPLES,device)\n",
    "\n",
    "print(f\"There are {len(test_data2)} samples in the dataset.\")"
   ]
  },
  {
   "cell_type": "code",
   "execution_count": 133,
   "id": "aad66665",
   "metadata": {},
   "outputs": [],
   "source": [
    "#Criando o dataloader\n",
    "test_loader2= DataLoader(dataset = test_data2, batch_size = batch_size, shuffle=True)"
   ]
  },
  {
   "cell_type": "code",
   "execution_count": 134,
   "id": "22966596",
   "metadata": {},
   "outputs": [],
   "source": [
    "#sessão de teste sem ruído\n",
    "\n",
    "#lista para armazenar os y verdadeiros\n",
    "y_truetest2 = []\n",
    "#lista para armazenar os y preditos\n",
    "y_predtest2 = []\n",
    "\n",
    "cnn.eval()\n",
    "\n",
    "with torch.no_grad():\n",
    "  for inp_test, label_test in test_loader2:\n",
    "                \n",
    "      #alocando o input e a label na GPU\n",
    "      inp_test = inp_test.to(device=device)\n",
    "      label_test = label_test.to(device=device)\n",
    "      \n",
    "      #predição do modelo em cima do input\n",
    "      preds3 = cnn(inp_test)\n",
    "      preds3 = nn.functional.softmax(preds3, dim=1)\n",
    "\n",
    "      #preenchendo as listas referente ao y verdadeiro e y predito\n",
    "      for i in range(len(label_test)):\n",
    "        y_truetest2.append(int(label_test[i].item()))\n",
    "        y_predtest2.append(int(torch.argmax(preds3[i]).item()))"
   ]
  },
  {
   "cell_type": "code",
   "execution_count": 139,
   "id": "0d9ca487",
   "metadata": {},
   "outputs": [],
   "source": [
    "y_truetest2 = torch.tensor(y_truetest2)\n",
    "y_predtest2 = torch.tensor(y_predtest2)"
   ]
  },
  {
   "cell_type": "code",
   "execution_count": 140,
   "id": "4100f86f",
   "metadata": {},
   "outputs": [
    {
     "data": {
      "text/plain": [
       "tensor([[  3,   0, 130,  19,  10,  14,   0],\n",
       "        [  0,   2, 124,  25,  10,  13,   2],\n",
       "        [  1,   0, 141,   8,  15,  10,   1],\n",
       "        [  1,   0,  97,  61,  16,   0,   1],\n",
       "        [  0,   0,  39,  26,  23,   0,   0],\n",
       "        [  0,   2,  75,   3,   5,  91,   0],\n",
       "        [  1,   0, 148,  12,   3,  12,   0]])"
      ]
     },
     "execution_count": 140,
     "metadata": {},
     "output_type": "execute_result"
    }
   ],
   "source": [
    "#Vendo os resultados/métricas para os testes sem ruído\n",
    "#montando a matriz de confusão\n",
    "confmat = ConfusionMatrix(num_classes=7)\n",
    "confmat(y_predtest2, y_truetest2)"
   ]
  },
  {
   "cell_type": "code",
   "execution_count": 141,
   "id": "ac055ea4",
   "metadata": {},
   "outputs": [
    {
     "data": {
      "image/png": "[encoded data removed]",
      "text/plain": [
       "<Figure size 432x288 with 2 Axes>"
      ]
     },
     "metadata": {
      "needs_background": "light"
     },
     "output_type": "display_data"
    }
   ],
   "source": [
    "matrizconfusao = confmat(y_predtest2,y_truetest2)\n",
    "disp = ConfusionMatrixDisplay(confusion_matrix=np.array(matrizconfusao))\n",
    "disp.plot()\n",
    "plt.show()"
   ]
  },
  {
   "cell_type": "code",
   "execution_count": 142,
   "id": "2ec35887",
   "metadata": {},
   "outputs": [
    {
     "name": "stdout",
     "output_type": "stream",
     "text": [
      "              precision    recall  f1-score   support\n",
      "\n",
      "        Fear       0.50      0.02      0.03       176\n",
      "     Disgust       0.50      0.01      0.02       176\n",
      "       Happy       0.19      0.80      0.30       176\n",
      "         Sad       0.40      0.35      0.37       176\n",
      "     Neutral       0.28      0.26      0.27        88\n",
      "       Angry       0.65      0.52      0.58       176\n",
      "    Surprise       0.00      0.00      0.00       176\n",
      "\n",
      "    accuracy                           0.28      1144\n",
      "   macro avg       0.36      0.28      0.22      1144\n",
      "weighted avg       0.37      0.28      0.22      1144\n",
      "\n"
     ]
    }
   ],
   "source": [
    "from sklearn.metrics import classification_report\n",
    "#{\"fear\":0, \"disgust\":1, \"happy\":2, \"sad\":3, \"neutral\":4, \"angry\":5, \"surprise\":6}\n",
    "target_names = ['Fear', 'Disgust', 'Happy','Sad','Neutral','Angry','Surprise']\n",
    "report = classification_report(np.array(y_truetest2),np.array(y_predtest2),target_names= target_names)\n",
    "print(report)"
   ]
  },
  {
   "cell_type": "code",
   "execution_count": null,
   "id": "cc45e2fa",
   "metadata": {},
   "outputs": [],
   "source": []
  }
 ],
 "metadata": {
  "kernelspec": {
   "display_name": "Python 3 (ipykernel)",
   "language": "python",
   "name": "python3"
  },
  "language_info": {
   "codemirror_mode": {
    "name": "ipython",
    "version": 3
   },
   "file_extension": ".py",
   "mimetype": "text/x-python",
   "name": "python",
   "nbconvert_exporter": "python",
   "pygments_lexer": "ipython3",
   "version": "3.9.12"
  }
 },
 "nbformat": 4,
 "nbformat_minor": 5
}
