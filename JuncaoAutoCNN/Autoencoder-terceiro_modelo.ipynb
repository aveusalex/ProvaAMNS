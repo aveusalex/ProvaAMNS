{
 "cells": [
  {
   "cell_type": "code",
   "execution_count": 1,
   "id": "c700ba69",
   "metadata": {},
   "outputs": [],
   "source": [
    "from torch import nn\n",
    "from torch.utils.data import DataLoader\n",
    "from torchvision import datasets\n",
    "from torchvision.transforms import ToTensor\n",
    "from torch.cuda import device\n",
    "import pandas as pd\n",
    "import torchaudio\n",
    "import os\n",
    "import re\n",
    "import numpy as np\n",
    "import librosa.display\n",
    "%matplotlib inline\n",
    "import numpy, scipy, matplotlib.pyplot as plt, IPython.display as ipd\n",
    "import librosa"
   ]
  },
  {
   "cell_type": "code",
   "execution_count": 2,
   "id": "affcda3c",
   "metadata": {},
   "outputs": [],
   "source": [
    "class CNNNetwork(nn.Module):\n",
    "\n",
    "    def __init__(self):\n",
    "        super().__init__()\n",
    "        # 4 conv blocks / flatten / linear / softmax\n",
    "        self.conv1 = nn.Sequential(\n",
    "            nn.Conv2d(\n",
    "                in_channels=1,\n",
    "                out_channels=32,\n",
    "                kernel_size=3,\n",
    "                stride=1,\n",
    "                padding=2\n",
    "            ),\n",
    "            nn.ReLU(),\n",
    "            nn.MaxPool2d(kernel_size=2),\n",
    "            nn.Dropout(0.3)\n",
    "        )\n",
    "        self.conv2 = nn.Sequential(\n",
    "            nn.Conv2d(\n",
    "                in_channels=32,\n",
    "                out_channels=64,\n",
    "                kernel_size=5,\n",
    "                stride=1,\n",
    "                padding=2\n",
    "            ),\n",
    "            nn.ReLU(),\n",
    "            nn.MaxPool2d(kernel_size=2),\n",
    "            nn.Dropout(0.3)\n",
    "        )\n",
    "        self.conv3 = nn.Sequential(\n",
    "            nn.Conv2d(\n",
    "                in_channels=64,\n",
    "                out_channels=128,\n",
    "                kernel_size=3,\n",
    "                stride=1,\n",
    "                padding=2\n",
    "            ),\n",
    "            nn.ReLU(),\n",
    "            nn.MaxPool2d(kernel_size=2),\n",
    "            nn.Dropout(0.3)\n",
    "        )\n",
    "        self.conv4 = nn.Sequential(\n",
    "            nn.Conv2d(\n",
    "                in_channels=128,\n",
    "               out_channels=256,\n",
    "                kernel_size=5,\n",
    "                stride=1,\n",
    "                padding=2\n",
    "            ),\n",
    "            nn.BatchNorm2d(256),\n",
    "            nn.ReLU(),\n",
    "            nn.MaxPool2d(kernel_size=2),\n",
    "            nn.Dropout(0.3)\n",
    "        )\n",
    "    \n",
    "        self.dropout = nn.Dropout()\n",
    "        self.flatten = nn.Flatten()\n",
    "        self.linear = nn.Linear(8192, 7)\n",
    "\n",
    "    def forward(self, input_data):\n",
    "        x = self.conv1(input_data)\n",
    "        x = self.conv2(x)\n",
    "        x = self.conv3(x)\n",
    "        x = self.conv4(x)\n",
    "        x = self.dropout(x)\n",
    "        x = self.flatten(x)\n",
    "        logits = self.linear(x)\n",
    "        return logits"
   ]
  },
  {
   "cell_type": "code",
   "execution_count": 16,
   "id": "8bcd4ee8",
   "metadata": {},
   "outputs": [
    {
     "data": {
      "text/plain": [
       "CNNNetwork(\n",
       "  (conv1): Sequential(\n",
       "    (0): Conv2d(1, 32, kernel_size=(3, 3), stride=(1, 1), padding=(2, 2))\n",
       "    (1): ReLU()\n",
       "    (2): MaxPool2d(kernel_size=2, stride=2, padding=0, dilation=1, ceil_mode=False)\n",
       "    (3): Dropout(p=0.3, inplace=False)\n",
       "  )\n",
       "  (conv2): Sequential(\n",
       "    (0): Conv2d(32, 64, kernel_size=(5, 5), stride=(1, 1), padding=(2, 2))\n",
       "    (1): ReLU()\n",
       "    (2): MaxPool2d(kernel_size=2, stride=2, padding=0, dilation=1, ceil_mode=False)\n",
       "    (3): Dropout(p=0.3, inplace=False)\n",
       "  )\n",
       "  (conv3): Sequential(\n",
       "    (0): Conv2d(64, 128, kernel_size=(3, 3), stride=(1, 1), padding=(2, 2))\n",
       "    (1): ReLU()\n",
       "    (2): MaxPool2d(kernel_size=2, stride=2, padding=0, dilation=1, ceil_mode=False)\n",
       "    (3): Dropout(p=0.3, inplace=False)\n",
       "  )\n",
       "  (conv4): Sequential(\n",
       "    (0): Conv2d(128, 256, kernel_size=(5, 5), stride=(1, 1), padding=(2, 2))\n",
       "    (1): BatchNorm2d(256, eps=1e-05, momentum=0.1, affine=True, track_running_stats=True)\n",
       "    (2): ReLU()\n",
       "    (3): MaxPool2d(kernel_size=2, stride=2, padding=0, dilation=1, ceil_mode=False)\n",
       "    (4): Dropout(p=0.3, inplace=False)\n",
       "  )\n",
       "  (dropout): Dropout(p=0.5, inplace=False)\n",
       "  (flatten): Flatten(start_dim=1, end_dim=-1)\n",
       "  (linear): Linear(in_features=8192, out_features=7, bias=True)\n",
       ")"
      ]
     },
     "execution_count": 16,
     "metadata": {},
     "output_type": "execute_result"
    }
   ],
   "source": [
    "cnn = CNNNetwork().to(device)\n",
    "cnn.load_state_dict(torch.load('cnnmelhorprovaamns.pth'))\n",
    "cnn.eval()"
   ]
  },
  {
   "cell_type": "code",
   "execution_count": 6,
   "id": "da37184c",
   "metadata": {},
   "outputs": [
    {
     "name": "stdout",
     "output_type": "stream",
     "text": [
      "Entrada:  torch.Size([1, 1, 64000])\n",
      "Saída: torch.Size([1, 1, 64000])\n"
     ]
    }
   ],
   "source": [
    "import torch\n",
    "from torch import nn\n",
    "\n",
    "\n",
    "class Encoder(nn.Module):\n",
    "    def __init__(self, encoded_space_dim):\n",
    "        super().__init__()\n",
    "\n",
    "        # Convolutional layers, 3 layers\n",
    "        self.encoder_cnn = nn.Sequential(\n",
    "            nn.Conv1d(1, 64, 1000, stride=64, padding=0),\n",
    "            nn.ReLU(True),\n",
    "            # nn.Conv1d(8, 16, 100, stride=4, padding=0),\n",
    "            # nn.BatchNorm1d(16),\n",
    "            # nn.ReLU(True),\n",
    "            # nn.Conv1d(16, 32, 50, stride=4, padding=0),\n",
    "            # nn.ReLU(True),\n",
    "            # nn.Conv1d(32, 64, 50, stride=2, padding=0),\n",
    "            # nn.ReLU(True)\n",
    "        )\n",
    "\n",
    "        # Flatten layer\n",
    "        # self.flatten = nn.Flatten(start_dim=1)\n",
    "\n",
    "        # Linear section\n",
    "        # self.encoder_lin = nn.Sequential(\n",
    "        #     nn.Linear(496, encoded_space_dim),\n",
    "        #     nn.ReLU(True),\n",
    "        # )\n",
    "\n",
    "    def forward(self, x):\n",
    "        x = self.encoder_cnn(x)\n",
    "        # print(x.shape)\n",
    "        # x = self.flatten(x)\n",
    "        # print(x.shape)\n",
    "        # x = self.encoder_lin(x)\n",
    "        # print(x.shape)\n",
    "        return x\n",
    "\n",
    "\n",
    "class Decoder(nn.Module):\n",
    "\n",
    "    def __init__(self, encoded_space_dim):\n",
    "        super().__init__()\n",
    "        # self.decoder_lin = nn.Sequential(\n",
    "        #     nn.Linear(encoded_space_dim, 496),\n",
    "        #     nn.ReLU(True)\n",
    "        # )\n",
    "        #\n",
    "        # self.unflatten = nn.Unflatten(dim=1,\n",
    "        #                               unflattened_size=(8, 62))\n",
    "\n",
    "        self.decoder_conv = nn.Sequential(\n",
    "            # nn.ConvTranspose1d(64, 32, 50,\n",
    "            #                    stride=2, padding=0, output_padding=0),\n",
    "            # nn.BatchNorm1d(32),\n",
    "            # nn.ReLU(True),\n",
    "            # nn.ConvTranspose1d(32, 16, 50, stride=4,\n",
    "            #                    padding=0, output_padding=0),\n",
    "            # nn.BatchNorm1d(16),\n",
    "            # nn.ReLU(True),\n",
    "            # nn.ConvTranspose1d(16, 8, 100, stride=4,\n",
    "            #                    padding=0, output_padding=0),\n",
    "            # nn.BatchNorm1d(8),\n",
    "            # nn.ReLU(True),\n",
    "            nn.ConvTranspose1d(64, 1, 1024, stride=64,\n",
    "                               padding=0, output_padding=0),\n",
    "        )\n",
    "\n",
    "    def forward(self, x):\n",
    "        # x = self.decoder_lin(x)\n",
    "        # x = self.unflatten(x)\n",
    "        x = self.decoder_conv(x)\n",
    "        x = torch.tanh(x)\n",
    "        return x\n",
    "\n",
    "\n",
    "if __name__ == '__main__':\n",
    "    from time import time\n",
    "    # em gpu\n",
    "    x = torch.randn(1, 1, 4*16000).cuda()\n",
    "    print(\"Entrada: \", x.shape)\n",
    "    encoder = Encoder(64).cuda()\n",
    "    decoder = Decoder(64).cuda()\n",
    "    x_ = encoder(x)\n",
    "    x_ = decoder(x_)\n",
    "    print(\"Saída:\", x_.shape)"
   ]
  },
  {
   "cell_type": "code",
   "execution_count": 7,
   "id": "2a674bfc",
   "metadata": {},
   "outputs": [
    {
     "data": {
      "text/plain": [
       "Encoder(\n",
       "  (encoder_cnn): Sequential(\n",
       "    (0): Conv1d(1, 64, kernel_size=(1000,), stride=(64,))\n",
       "    (1): ReLU(inplace=True)\n",
       "  )\n",
       ")"
      ]
     },
     "execution_count": 7,
     "metadata": {},
     "output_type": "execute_result"
    }
   ],
   "source": [
    "#Carregando os modelos\n",
    "encoder.load_state_dict(torch.load('encoderRede_basicona_tanh2.pth'))\n",
    "encoder.eval()"
   ]
  },
  {
   "cell_type": "code",
   "execution_count": 8,
   "id": "c86529a0",
   "metadata": {},
   "outputs": [
    {
     "data": {
      "text/plain": [
       "Decoder(\n",
       "  (decoder_conv): Sequential(\n",
       "    (0): ConvTranspose1d(64, 1, kernel_size=(1024,), stride=(64,))\n",
       "  )\n",
       ")"
      ]
     },
     "execution_count": 8,
     "metadata": {},
     "output_type": "execute_result"
    }
   ],
   "source": [
    "decoder.load_state_dict(torch.load('decoderRede_basicona_tanh2.pth'))\n",
    "decoder.eval()"
   ]
  },
  {
   "cell_type": "code",
   "execution_count": 9,
   "id": "ba6bd408",
   "metadata": {},
   "outputs": [],
   "source": [
    "from torch.utils.data import Dataset\n",
    "import torchaudio\n",
    "import torch\n",
    "import pandas as pd\n",
    "\n",
    "\n",
    "class DadosAE(Dataset):\n",
    "    def __init__(self,\n",
    "               target_sample_rate):\n",
    "        self.raiz = r\"C:\\Users\\heloi\\OneDrive\\Área de Trabalho\\BIA 6 PERIODO\\ANS\"\n",
    "        self.annotations = pd.read_csv(r\"C:\\Users\\heloi\\OneDrive\\Área de Trabalho\\BIA 6 PERIODO\\ANS\\metadata/testeravdess.csv\")\n",
    "        self.annotations_ruido = pd.read_csv(r\"C:\\Users\\heloi\\OneDrive\\Área de Trabalho\\BIA 6 PERIODO\\ANS\\metadata/testeravdessruidoso.csv\")\n",
    "        self.device = \"cuda\"\n",
    "        self.target_sample_rate = target_sample_rate\n",
    "        self.num_samples = 4 * 16000\n",
    "        self.cache = dict()  # controlamos para ter no máximo 100 amostras no cache\n",
    "\n",
    "    def __len__(self):\n",
    "        return len(self.annotations_ruido)\n",
    "\n",
    "    def __getitem__(self, index):\n",
    "        if index in self.cache:\n",
    "            return self.cache[index]\n",
    "        path_ruido, path_limpo = self._get_audio_sample_path(index)\n",
    "\n",
    "        # audio com ruido (X)\n",
    "        signal, sr = torchaudio.load(self.raiz + \"/\" + path_ruido)\n",
    "        signal = signal.to(self.device)\n",
    "        signal = self._resample_if_necessary(signal, sr)\n",
    "        signal = self._mix_down_if_necessary(signal)\n",
    "        signal = self._cut_if_necessary(signal)\n",
    "        signal = self._right_pad_if_necessary(signal)\n",
    "\n",
    "        # audio limpo (y)\n",
    "        signal_limpo, sr_limpo = torchaudio.load(self.raiz + \"/\" + path_limpo)\n",
    "        signal_limpo = signal_limpo.to(self.device)\n",
    "        signal_limpo = self._resample_if_necessary(signal_limpo, sr_limpo)\n",
    "        signal_limpo = self._mix_down_if_necessary(signal_limpo)\n",
    "        signal_limpo = self._cut_if_necessary(signal_limpo)\n",
    "        signal_limpo = self._right_pad_if_necessary(signal_limpo)\n",
    "\n",
    "        if len(self.cache) < 256:\n",
    "            self.cache[index] = (signal, signal_limpo)\n",
    "        else:\n",
    "            self.cache = dict()\n",
    "            self.cache[index] = (signal, signal_limpo)\n",
    "\n",
    "        return signal, signal_limpo\n",
    "\n",
    "    def _cut_if_necessary(self, signal):\n",
    "        if signal.shape[1] > self.num_samples:\n",
    "            signal = signal[:, :self.num_samples]\n",
    "        return signal\n",
    "\n",
    "    def _right_pad_if_necessary(self, signal):\n",
    "        length_signal = signal.shape[1]\n",
    "        if length_signal < self.num_samples:\n",
    "            num_missing_samples = self.num_samples - length_signal\n",
    "            last_dim_padding = (0, num_missing_samples)\n",
    "            signal = torch.nn.functional.pad(signal, last_dim_padding)\n",
    "        return signal\n",
    "\n",
    "    def _resample_if_necessary(self, signal, sr):\n",
    "        if sr != self.target_sample_rate:\n",
    "            resampler = torchaudio.transforms.Resample(sr, self.target_sample_rate)\n",
    "            resampler.to(self.device)\n",
    "            signal = resampler(signal)\n",
    "        return signal\n",
    "\n",
    "    def _mix_down_if_necessary(self, signal):\n",
    "        if signal.shape[0] > 1:\n",
    "            signal = torch.mean(signal, dim=0, keepdim=True)\n",
    "        return signal\n",
    "\n",
    "    def _get_audio_sample_path(self, index):\n",
    "        return self.annotations_ruido.iloc[index, 0], self.annotations.iloc[index, 0]\n",
    "\n",
    "    def _get_audio_sample_label(self, index):\n",
    "        return self.annotations.iloc[index, 1]"
   ]
  },
  {
   "cell_type": "code",
   "execution_count": 10,
   "id": "2ab2c9d2",
   "metadata": {},
   "outputs": [],
   "source": [
    "#Classe para criação do dataloader, com ela conseguimos abrir os arquivos de áudio a serem utilizados\n",
    "from torch.utils.data import Dataset\n",
    "class SerDataset (Dataset):\n",
    "\n",
    "    def __init__(self,\n",
    "                 annotations_file,\n",
    "                 transformation,\n",
    "                 target_sample_rate,\n",
    "                 num_samples,device):\n",
    "        self.annotations = pd.read_csv(annotations_file)\n",
    "        self.device = device\n",
    "        self.transformation = transformation.to(self.device)\n",
    "        self.target_sample_rate = target_sample_rate\n",
    "        self.num_samples = num_samples\n",
    "        self.cache = dict()\n",
    "        \n",
    "\n",
    "    def __len__(self):\n",
    "        return len(self.annotations)\n",
    "\n",
    "    def __getitem__(self,index):\n",
    "        if index in self.cache:\n",
    "          return self.cache[index]\n",
    "        audio_sample_path = self._get_audio_sample_path(index)\n",
    "        label = self._get_audio_sample_label(index)\n",
    "        signal, sr = torchaudio.load(audio_sample_path)\n",
    "        signal = signal.to(self.device)\n",
    "        signal = self._resample_if_necessary(signal, sr)\n",
    "        signal = self._mix_down_if_necessary(signal)\n",
    "        signal = self._cut_if_necessary(signal)\n",
    "        signal = self._right_pad_if_necessary(signal)\n",
    "        signal = self.transformation(signal)\n",
    "        label_dict = {\"fear\":0, \"disgust\":1, \"happy\":2, \"sad\":3, \"neutral\":4, \"angry\":5, \"surprise\":6}\n",
    "        label2 = label_dict[label]\n",
    "        self.cache[index] = signal, label2\n",
    "        return signal, label2\n",
    "\n",
    "    def _cut_if_necessary(self, signal):\n",
    "        if signal.shape[1] > self.num_samples:\n",
    "            signal = signal[:, :self.num_samples]\n",
    "        return signal\n",
    "\n",
    "    def _right_pad_if_necessary(self, signal):\n",
    "        length_signal = signal.shape[1]\n",
    "        if length_signal < self.num_samples:\n",
    "            num_missing_samples = self.num_samples - length_signal\n",
    "            last_dim_padding = (0, num_missing_samples)\n",
    "            signal = torch.nn.functional.pad(signal, last_dim_padding)\n",
    "        return signal\n",
    "\n",
    "    def _resample_if_necessary(self, signal, sr):\n",
    "        if sr != self.target_sample_rate:\n",
    "            resampler = torchaudio.transforms.Resample(sr, self.target_sample_rate)\n",
    "            resampler.to(self.device)\n",
    "            signal = resampler(signal)\n",
    "        return signal\n",
    "\n",
    "    def _mix_down_if_necessary(self, signal):\n",
    "        if signal.shape[0] > 1:\n",
    "            signal = torch.mean(signal, dim=0, keepdim=True)\n",
    "        return signal\n",
    "\n",
    "    def _get_audio_sample_path(self,index):\n",
    "        return self.annotations.iloc[index,0]\n",
    "    def _get_audio_sample_label(self,index):\n",
    "        return self.annotations.iloc[index,1]\n"
   ]
  },
  {
   "cell_type": "code",
   "execution_count": 11,
   "id": "a02e1e8e",
   "metadata": {},
   "outputs": [],
   "source": [
    "test_dataautoencoder = DadosAE(target_sample_rate=16000)\n",
    "batch_size = 16\n",
    "test_loaderautoencoder = DataLoader(test_dataautoencoder, batch_size=batch_size, shuffle=True)"
   ]
  },
  {
   "cell_type": "code",
   "execution_count": 12,
   "id": "7d6d6d7a",
   "metadata": {},
   "outputs": [
    {
     "name": "stdout",
     "output_type": "stream",
     "text": [
      "using cuda\n"
     ]
    }
   ],
   "source": [
    "#Acessando a gpu\n",
    "if torch.cuda.is_available():\n",
    "  device = \"cuda\"\n",
    "else:\n",
    "  device = \"cpu\"\n",
    "print(f\"using {device}\")"
   ]
  },
  {
   "cell_type": "code",
   "execution_count": 13,
   "id": "e1a5c03a",
   "metadata": {},
   "outputs": [
    {
     "name": "stdout",
     "output_type": "stream",
     "text": [
      "There are 1144 samples in the dataset.\n"
     ]
    }
   ],
   "source": [
    "#Captando os dados de teste com ruído\n",
    "ANNOTATIONS_FILE = \"metadata/testeravdessruidoso.csv\"\n",
    "SAMPLE_RATE = 16000\n",
    "NUM_SAMPLES = 4*16000\n",
    "\n",
    "mel_spectrogram = torchaudio.transforms.MelSpectrogram(\n",
    "    sample_rate=SAMPLE_RATE,\n",
    "    n_fft=1024,\n",
    "    hop_length=512,\n",
    "    n_mels=64\n",
    ")\n",
    "test_data = SerDataset(ANNOTATIONS_FILE,mel_spectrogram,SAMPLE_RATE,NUM_SAMPLES,device)\n",
    "\n",
    "print(f\"There are {len(test_data)} samples in the dataset.\")"
   ]
  },
  {
   "cell_type": "code",
   "execution_count": 14,
   "id": "ea661a1d",
   "metadata": {},
   "outputs": [],
   "source": [
    "#criando o dataloader\n",
    "test_loader= DataLoader(dataset = test_data, batch_size = batch_size, shuffle=True)"
   ]
  },
  {
   "cell_type": "code",
   "execution_count": 17,
   "id": "ba8cabce",
   "metadata": {},
   "outputs": [],
   "source": [
    "#sessão de teste com ruído\n",
    "\n",
    "#lista para armazenar os y verdadeiros\n",
    "y_truetest = []\n",
    "#lista para armazenar os y preditos\n",
    "y_predtest = []\n",
    "\n",
    "cnn.eval()\n",
    "\n",
    "with torch.no_grad():\n",
    "  for inp_test, label_test in test_loader:\n",
    "                \n",
    "      #alocando o input e a label na GPU\n",
    "      inp_test = inp_test.to(device=device)\n",
    "      label_test = label_test.to(device=device)\n",
    "      \n",
    "      #predição do modelo em cima do input\n",
    "      preds3 = cnn(inp_test)\n",
    "      preds3 = nn.functional.softmax(preds3, dim=1)\n",
    "\n",
    "      #preenchendo as listas referente ao y verdadeiro e y predito\n",
    "      for i in range(len(label_test)):\n",
    "        y_truetest.append(int(label_test[i].item()))\n",
    "        y_predtest.append(int(torch.argmax(preds3[i]).item()))"
   ]
  },
  {
   "cell_type": "code",
   "execution_count": 18,
   "id": "10c9e282",
   "metadata": {},
   "outputs": [],
   "source": [
    "#lista para armazenar os y preditos\n",
    "y_predtestautoencoder = []\n",
    "\n",
    "cnn.eval()\n",
    "\n",
    "with torch.no_grad():\n",
    "  for input, target in test_loaderautoencoder:\n",
    "    encoded_Data = encoder(input)\n",
    "    decoded_Data = decoder(encoded_Data)\n",
    "    mel_spectrogram = torchaudio.transforms.MelSpectrogram(\n",
    "    n_fft=1024,\n",
    "    hop_length=512,\n",
    "    n_mels=64\n",
    ")\n",
    "    mel_spectrogram.to(device)\n",
    "    signal = mel_spectrogram(decoded_Data)\n",
    "            \n",
    "      \n",
    "    #predição do modelo em cima do input\n",
    "    predsautoencoder = cnn(signal)\n",
    "    predsautoencoder = nn.functional.softmax(predsautoencoder, dim=1)\n",
    "\n",
    "    #preenchendo as listas referente ao y verdadeiro e y predito\n",
    "    for i in range(len(target)):\n",
    "        y_predtestautoencoder.append(int(torch.argmax(predsautoencoder[i]).item()))"
   ]
  },
  {
   "cell_type": "code",
   "execution_count": 19,
   "id": "df4fa523",
   "metadata": {},
   "outputs": [],
   "source": [
    "y_truetest = torch.tensor(y_truetest)\n",
    "y_predtestautoencoder = torch.tensor(y_predtestautoencoder)"
   ]
  },
  {
   "cell_type": "code",
   "execution_count": 20,
   "id": "03e5b447",
   "metadata": {},
   "outputs": [
    {
     "data": {
      "text/plain": [
       "torch.Size([1144])"
      ]
     },
     "execution_count": 20,
     "metadata": {},
     "output_type": "execute_result"
    }
   ],
   "source": [
    "y_predtestautoencoder.shape"
   ]
  },
  {
   "cell_type": "code",
   "execution_count": 21,
   "id": "feb87052",
   "metadata": {},
   "outputs": [
    {
     "data": {
      "text/plain": [
       "torch.Size([1144])"
      ]
     },
     "execution_count": 21,
     "metadata": {},
     "output_type": "execute_result"
    }
   ],
   "source": [
    "y_truetest.shape"
   ]
  },
  {
   "cell_type": "code",
   "execution_count": 22,
   "id": "d45f3282",
   "metadata": {},
   "outputs": [
    {
     "data": {
      "text/plain": [
       "tensor([[  0,   0, 124,  25,  21,   6,   0],\n",
       "        [  0,   0, 123,  25,  19,   9,   0],\n",
       "        [  1,   0, 128,  18,  19,  10,   0],\n",
       "        [  0,   1, 121,  24,  21,   9,   0],\n",
       "        [  0,   0,  57,  11,  13,   7,   0],\n",
       "        [  0,   0, 123,  22,  25,   6,   0],\n",
       "        [  0,   0, 126,  16,  29,   5,   0]])"
      ]
     },
     "execution_count": 22,
     "metadata": {},
     "output_type": "execute_result"
    }
   ],
   "source": [
    "from torchmetrics import ConfusionMatrix\n",
    "from sklearn.metrics import ConfusionMatrixDisplay\n",
    "##Vendo os resultados/métricas para o teste com ruído\n",
    "#montando a matriz de confusão\n",
    "confmat = ConfusionMatrix(num_classes=7)\n",
    "confmat(y_predtestautoencoder, y_truetest)"
   ]
  },
  {
   "cell_type": "code",
   "execution_count": 23,
   "id": "aa06117b",
   "metadata": {},
   "outputs": [
    {
     "data": {
      "image/png": "[encoded data removed]",
      "text/plain": [
       "<Figure size 432x288 with 2 Axes>"
      ]
     },
     "metadata": {
      "needs_background": "light"
     },
     "output_type": "display_data"
    }
   ],
   "source": [
    "matrizconfusao = confmat(y_predtestautoencoder,y_truetest)\n",
    "disp = ConfusionMatrixDisplay(confusion_matrix=np.array(matrizconfusao))\n",
    "disp.plot()\n",
    "plt.show()"
   ]
  },
  {
   "cell_type": "code",
   "execution_count": 24,
   "id": "14557493",
   "metadata": {},
   "outputs": [
    {
     "name": "stdout",
     "output_type": "stream",
     "text": [
      "              precision    recall  f1-score   support\n",
      "\n",
      "        Fear       0.00      0.00      0.00       176\n",
      "     Disgust       0.00      0.00      0.00       176\n",
      "       Happy       0.16      0.73      0.26       176\n",
      "         Sad       0.17      0.14      0.15       176\n",
      "     Neutral       0.09      0.15      0.11        88\n",
      "       Angry       0.12      0.03      0.05       176\n",
      "    Surprise       1.00      0.00      0.00       176\n",
      "\n",
      "    accuracy                           0.15      1144\n",
      "   macro avg       0.22      0.15      0.08      1144\n",
      "weighted avg       0.23      0.15      0.08      1144\n",
      "\n"
     ]
    }
   ],
   "source": [
    "from sklearn.metrics import classification_report\n",
    "#{\"fear\":0, \"disgust\":1, \"happy\":2, \"sad\":3, \"neutral\":4, \"angry\":5, \"surprise\":6}\n",
    "target_names = ['Fear', 'Disgust', 'Happy','Sad','Neutral','Angry','Surprise']\n",
    "report = classification_report(np.array(y_truetest),np.array(y_predtestautoencoder),target_names= target_names,zero_division=True)\n",
    "print(report)"
   ]
  },
  {
   "cell_type": "code",
   "execution_count": null,
   "id": "5497d58b",
   "metadata": {},
   "outputs": [],
   "source": []
  }
 ],
 "metadata": {
  "kernelspec": {
   "display_name": "Python 3 (ipykernel)",
   "language": "python",
   "name": "python3"
  },
  "language_info": {
   "codemirror_mode": {
    "name": "ipython",
    "version": 3
   },
   "file_extension": ".py",
   "mimetype": "text/x-python",
   "name": "python",
   "nbconvert_exporter": "python",
   "pygments_lexer": "ipython3",
   "version": "3.9.12"
  }
 },
 "nbformat": 4,
 "nbformat_minor": 5
}
